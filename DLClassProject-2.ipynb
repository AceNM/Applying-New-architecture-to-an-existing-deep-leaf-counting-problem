{
  "nbformat": 4,
  "nbformat_minor": 0,
  "metadata": {
    "colab": {
      "name": "DLClassProject.ipynb",
      "provenance": [],
      "collapsed_sections": [],
      "machine_shape": "hm"
    },
    "kernelspec": {
      "name": "python3",
      "display_name": "Python 3"
    },
    "accelerator": "GPU"
  },
  "cells": [
    {
      "cell_type": "code",
      "metadata": {
        "id": "wATRWYzR8BAr",
        "colab_type": "code",
        "outputId": "ea3aab84-8f0d-491b-fd26-acb59f188b9e",
        "colab": {
          "base_uri": "https://localhost:8080/",
          "height": 105
        }
      },
      "source": [
        "%tensorflow_version 2.x\n",
        "\n",
        "#Import needed libraries\n",
        "import tensorflow               as tf\n",
        "import numpy                    as np\n",
        "import cv2\n",
        "import os, datetime\n",
        "import tensorflow.keras.backend as K\n",
        "import glob\n",
        "import math\n",
        "\n",
        "from skimage.exposure                       import rescale_intensity\n",
        "from keras.preprocessing.image              import ImageDataGenerator\n",
        "from tensorflow.keras                       import regularizers\n",
        "from tensorflow.keras.optimizers            import Adam\n",
        "from tensorflow.keras.preprocessing.image   import load_img, img_to_array\n",
        "from sklearn.model_selection                import train_test_split\n",
        "from keras.utils.generic_utils              import get_custom_objects\n",
        "from tensorflow.keras.applications          import Xception\n",
        "from tensorflow.keras.layers                import Dense, Flatten, Dropout, Activation\n",
        "from tensorflow.keras.models                import Model\n",
        "from tensorflow.keras.callbacks             import ModelCheckpoint\n",
        "\n",
        "#making sure that the correct version is selected\n",
        "print(tf.__version__)\n",
        "\n",
        "#Load the Xception model and setting some hyperparameters\n",
        "image_size = 299\n",
        "batch_size_var = 6\n",
        "num_epochs = 100\n",
        "augmentation_factor = 12\n",
        "Xception_conv_base = Xception(weights= 'imagenet', include_top=True, input_shape=(image_size, image_size, 3))"
      ],
      "execution_count": 0,
      "outputs": [
        {
          "output_type": "stream",
          "text": [
            "Using TensorFlow backend.\n"
          ],
          "name": "stderr"
        },
        {
          "output_type": "stream",
          "text": [
            "2.2.0\n",
            "Downloading data from https://storage.googleapis.com/tensorflow/keras-applications/xception/xception_weights_tf_dim_ordering_tf_kernels.h5\n",
            "91889664/91884032 [==============================] - 1s 0us/step\n"
          ],
          "name": "stdout"
        }
      ]
    },
    {
      "cell_type": "code",
      "metadata": {
        "id": "cQmDVhPORhr_",
        "colab_type": "code",
        "colab": {}
      },
      "source": [
        "#function for creating datasets\n",
        "def dataset_creator(path, file_name, img_height, img_width):\n",
        "    \n",
        "    image = list ()\n",
        "    for img_name  in  glob.glob( pathname = path  + '/' + file_name + '/**.png' ):\n",
        "        img = load_img( path = img_name, color_mode = 'rgb', target_size = (img_height, img_width), interpolation='bicubic')\n",
        "        img = img_to_array( img = img,  data_format = 'channels_last')\n",
        "        p2, p98 = np.percentile(img, (2, 98))\n",
        "        img = rescale_intensity(img, in_range=(p2, p98))\n",
        "        img = img/255.0\n",
        "        image.append(img)\n",
        "    X = np.array(image).astype(dtype = np.float32 )\n",
        "    Y = (np.genfromtxt(path + '/' +file_name +  '/' + file_name + '.csv', delimiter=',')).astype(dtype = np.float32 )\n",
        "   \n",
        "    return  train_test_split(X, Y, test_size = 0.25, random_state = 18 )"
      ],
      "execution_count": 0,
      "outputs": []
    },
    {
      "cell_type": "markdown",
      "metadata": {
        "id": "A2oFJK3P-sC8",
        "colab_type": "text"
      },
      "source": [
        "In the next cells we create necessary dataset for training our models."
      ]
    },
    {
      "cell_type": "code",
      "metadata": {
        "id": "8D8FUusRzyIQ",
        "colab_type": "code",
        "colab": {}
      },
      "source": [
        "A1_X_train, A1_X_test, A1_Y_train, A1_Y_test = dataset_creator('/content/drive/My Drive/PlantDataset','Ara2012',image_size,image_size)"
      ],
      "execution_count": 0,
      "outputs": []
    },
    {
      "cell_type": "code",
      "metadata": {
        "id": "IdxOspw1z8xT",
        "colab_type": "code",
        "colab": {}
      },
      "source": [
        "A2_X_train, A2_X_test, A2_Y_train, A2_Y_test = dataset_creator('/content/drive/My Drive/PlantDataset','Ara2013',image_size,image_size)"
      ],
      "execution_count": 0,
      "outputs": []
    },
    {
      "cell_type": "code",
      "metadata": {
        "id": "BQHnCMwTz_ah",
        "colab_type": "code",
        "colab": {}
      },
      "source": [
        "A3_X_train, A3_X_test, A3_Y_train, A3_Y_test = dataset_creator('/content/drive/My Drive/PlantDataset','Tobacco',image_size,image_size)"
      ],
      "execution_count": 0,
      "outputs": []
    },
    {
      "cell_type": "code",
      "metadata": {
        "id": "Pv83pOZQ0Bwa",
        "colab_type": "code",
        "colab": {}
      },
      "source": [
        "A4_X_train, A4_X_test, A4_Y_train, A4_Y_test = dataset_creator('/content/drive/My Drive/PlantDataset','A4',image_size,image_size)"
      ],
      "execution_count": 0,
      "outputs": []
    },
    {
      "cell_type": "code",
      "metadata": {
        "id": "taKsX-ESHqWy",
        "colab_type": "code",
        "colab": {}
      },
      "source": [
        ""
      ],
      "execution_count": 0,
      "outputs": []
    },
    {
      "cell_type": "code",
      "metadata": {
        "id": "xtnKeZMrHuPq",
        "colab_type": "code",
        "outputId": "21602954-2673-4ed4-cbd7-4778731a5187",
        "colab": {
          "base_uri": "https://localhost:8080/",
          "height": 191
        }
      },
      "source": [
        "from google.colab import drive\n",
        "drive.mount('/content/drive')"
      ],
      "execution_count": 0,
      "outputs": [
        {
          "output_type": "stream",
          "text": [
            "Go to this URL in a browser: https://accounts.google.com/o/oauth2/auth?client_id=947318989803-6bn6qk8qdgf4n4g3pfee6491hc0brc4i.apps.googleusercontent.com&redirect_uri=urn%3aietf%3awg%3aoauth%3a2.0%3aoob&response_type=code&scope=email%20https%3a%2f%2fwww.googleapis.com%2fauth%2fdocs.test%20https%3a%2f%2fwww.googleapis.com%2fauth%2fdrive%20https%3a%2f%2fwww.googleapis.com%2fauth%2fdrive.photos.readonly%20https%3a%2f%2fwww.googleapis.com%2fauth%2fpeopleapi.readonly\n",
            "\n",
            "Enter your authorization code:\n",
            "··········\n",
            "Mounted at /content/drive\n"
          ],
          "name": "stdout"
        }
      ]
    },
    {
      "cell_type": "code",
      "metadata": {
        "id": "uzdky1Cg77sn",
        "colab_type": "code",
        "colab": {}
      },
      "source": [
        "A1A2_X_train = np.concatenate([A1_X_train,A2_X_train])  \n",
        "A1A2_X_test  = np.concatenate([A1_X_test,A2_X_test])\n",
        "A1A2_Y_train = np.concatenate([A1_Y_train,A2_Y_train])\n",
        "A1A2_Y_test  = np.concatenate([A1_Y_test,A2_Y_test])"
      ],
      "execution_count": 0,
      "outputs": []
    },
    {
      "cell_type": "code",
      "metadata": {
        "id": "fBCo44z_78SK",
        "colab_type": "code",
        "colab": {}
      },
      "source": [
        "A1A4_X_train = np.concatenate([A1_X_train,A4_X_train])  \n",
        "A1A4_X_test  = np.concatenate([A1_X_test,A4_X_test])\n",
        "A1A4_Y_train = np.concatenate([A1_Y_train,A4_Y_train])\n",
        "A1A4_Y_test  = np.concatenate([A1_Y_test,A4_Y_test])"
      ],
      "execution_count": 0,
      "outputs": []
    },
    {
      "cell_type": "code",
      "metadata": {
        "id": "b00CXSpx9i9l",
        "colab_type": "code",
        "colab": {}
      },
      "source": [
        "A2A4_X_train = np.concatenate([A2_X_train,A4_X_train])  \n",
        "A2A4_X_test  = np.concatenate([A2_X_test,A4_X_test])\n",
        "A2A4_Y_train = np.concatenate([A2_Y_train,A4_Y_train])\n",
        "A2A4_Y_test  = np.concatenate([A2_Y_test,A4_Y_test])"
      ],
      "execution_count": 0,
      "outputs": []
    },
    {
      "cell_type": "code",
      "metadata": {
        "id": "AGpX_xZL0ED7",
        "colab_type": "code",
        "colab": {}
      },
      "source": [
        "Ac_X_train    = np.concatenate([A1_X_train,A2_X_train,A3_X_train,A4_X_train])  \n",
        "Ac_X_test     = np.concatenate([A1_X_test,A2_X_test,A3_X_test,A4_X_test])\n",
        "Ac_Y_train    = np.concatenate([A1_Y_train,A2_Y_train,A3_Y_train,A4_Y_train])\n",
        "Ac_Y_test     = np.concatenate([A1_Y_test,A2_Y_test,A3_Y_test,A4_Y_test])"
      ],
      "execution_count": 0,
      "outputs": []
    },
    {
      "cell_type": "code",
      "metadata": {
        "id": "FfhHxWD4z3W3",
        "colab_type": "code",
        "colab": {}
      },
      "source": [
        "#print(Ac_X_train.shape)\n",
        "#print(A5_X_test.shape)\n",
        "#print(A5_Y_train.shape)\n",
        "#print(A5_Y_test.shape)"
      ],
      "execution_count": 0,
      "outputs": []
    },
    {
      "cell_type": "code",
      "metadata": {
        "id": "Bmik1GNiTmLJ",
        "colab_type": "code",
        "colab": {}
      },
      "source": [
        "#Defining two metrics\n",
        "\n",
        "#DiC\n",
        "def mean_Difference_in_Count(y_true, y_pred):\n",
        "   return K.cast(K.mean( K.round(y_pred) - y_true), 'float32') \n",
        "\n",
        "def std_Difference_in_Count(y_true, y_pred):\n",
        "   return K.cast(K.std( K.round(y_pred) - y_true), 'float32') \n",
        "\n",
        "#|DiC|\n",
        "def mean_absolute_Difference_in_Count(y_true, y_pred):\n",
        "  return K.cast(K.mean(K.abs(K.round(y_pred) - y_true)), 'float32') \n",
        "\n",
        "def std_absolute_Difference_in_Count(y_true, y_pred):\n",
        "  return K.cast(K.std(K.abs(K.round(y_pred) - y_true)), 'float32')\n",
        "  \n",
        "#MSE\n",
        "def MSE(y_true, y_pred):\n",
        "  return K.cast(K.mean(K.pow((K.round(y_pred) - y_true),2)), 'float32')\n",
        "\n",
        "#last layer activation function\n",
        "#code inspired from https://stackoverflow.com/questions/43915482/how-do-you-create-a-custom-activation-function-with-keras\n",
        "def round_relu(x):\n",
        "    out = K.round(tf.keras.activations.relu(x))\n",
        "    out = np.array(out)\n",
        "    return out.astype('float32')\n",
        "get_custom_objects().update({'round_relu': Activation(round_relu)})"
      ],
      "execution_count": 0,
      "outputs": []
    },
    {
      "cell_type": "code",
      "metadata": {
        "id": "k5Ud_8VDrnbv",
        "colab_type": "code",
        "colab": {}
      },
      "source": [
        "adam_optimizer = Adam(learning_rate=0.001)\n",
        "#Creating Base Architecture\n",
        "def create_base_model():\n",
        "    base_model = tf.keras.models.Sequential([\n",
        "             tf.keras.layers.Flatten(),\n",
        "             tf.keras.layers.Dense(1024, activation='relu',kernel_initializer='glorot_normal'),\n",
        "             tf.keras.layers.Dropout(0.2),\n",
        "             tf.keras.layers.Dense(512, activation = 'relu',kernel_initializer='glorot_normal',kernel_regularizer=regularizers.l2(0.01)),\n",
        "             tf.keras.layers.Dropout(0.2),\n",
        "             tf.keras.layers.Dense(1, activation = 'relu',kernel_initializer='glorot_normal')\n",
        "            ])\n",
        "\n",
        "\n",
        "    base_model.compile(\n",
        "                adam_optimizer,\n",
        "                loss='mean_squared_error',\n",
        "                metrics=[mean_Difference_in_Count,\n",
        "                         std_Difference_in_Count,\n",
        "                         mean_absolute_Difference_in_Count,\n",
        "                         std_absolute_Difference_in_Count,\n",
        "                         MSE\n",
        "                         ])\n",
        "    return base_model\n",
        "#base_model.build(input_shape=(None,299,299,3))\n",
        "#base_model.summary()\n",
        "\n",
        "#Creating Xception architecture and adjusting the last layers to make it compatible with a counting problem\n",
        "#code inspired from https://github.com/keras-team/keras/issues/3465\n",
        "def create_Xception_model():\n",
        "    x = Xception_conv_base.layers[-2].output\n",
        "    x = Dense(1024, activation = 'relu',kernel_initializer='glorot_normal',)(x)\n",
        "    x = Dropout(0.2)(x)\n",
        "    x = Dense(512, activation = 'relu',kernel_initializer='glorot_normal',kernel_regularizer=regularizers.l2(0.01))(x)\n",
        "    x = Dropout(0.2)(x)\n",
        "    predictions = Dense(1, activation = 'relu' ,kernel_initializer='glorot_normal')(x)\n",
        "    Xception_conv_altered= Model(inputs = Xception_conv_base.input, outputs = predictions)\n",
        "\n",
        "    Xception_conv_altered.compile(\n",
        "                optimizer=adam_optimizer,\n",
        "                loss='mean_squared_error', \n",
        "                metrics=[mean_Difference_in_Count,\n",
        "                         std_Difference_in_Count,\n",
        "                         mean_absolute_Difference_in_Count,\n",
        "                         std_absolute_Difference_in_Count,\n",
        "                         MSE])\n",
        "    \n",
        "    return Xception_conv_altered\n",
        "#Xception_conv_altered.summary()"
      ],
      "execution_count": 0,
      "outputs": []
    },
    {
      "cell_type": "code",
      "metadata": {
        "id": "iy491Ebc9d5g",
        "colab_type": "code",
        "colab": {}
      },
      "source": [
        "#data augmentation function\n",
        "def dataset_augmentor(X_train,Y_train):\n",
        "    datagen_train = ImageDataGenerator(\n",
        "      zoom_range=0.1,\n",
        "      rotation_range=170,\n",
        "      horizontal_flip=True,\n",
        "      vertical_flip=True)\n",
        "\n",
        "    return datagen_train.flow(X_train, Y_train, batch_size = batch_size_var)"
      ],
      "execution_count": 0,
      "outputs": []
    },
    {
      "cell_type": "code",
      "metadata": {
        "id": "lrB-tMc81Xp8",
        "colab_type": "code",
        "colab": {}
      },
      "source": [
        "#Training the models\n",
        "logdir = os.path.join(\"logs\", datetime.datetime.now().strftime(\"%Y%m%d-%H%M%S\"))\n",
        "tensorboard_callback = tf.keras.callbacks.TensorBoard(logdir, histogram_freq=1)\n",
        "#file_path = '/content/drive/My Drive/model/eps={epoch:03d}_valLoss={val_loss:.4f}.hdf5'\n",
        "early_stopping = tf.keras.callbacks.EarlyStopping(monitor='val_loss', min_delta=0.1, patience=5 ,restore_best_weights=True)\n",
        "#checkpoint = ModelCheckpoint(file_path, monitor='val_loss', verbose=1,\n",
        "#                             save_best_only=True, mode='min')\n",
        "\n",
        "#Base architecture\n",
        "def fitter_functions (model,X_train,X_test,Y_train,Y_test,augmentation):\n",
        "\n",
        "  if(augmentation):\n",
        "    train_set = dataset_augmentor(X_train,Y_train)\n",
        "    model.fit(\n",
        "        train_set,\n",
        "        steps_per_epoch= 12 * math.ceil(len(train_set)),\n",
        "        epochs=100,\n",
        "        validation_data = (X_test, Y_test),\n",
        "        callbacks=[early_stopping])\n",
        "    \n",
        "  else:\n",
        "     model.fit(\n",
        "        x=X_train, \n",
        "        y=Y_train, \n",
        "        batch_size= batch_size_var,\n",
        "        epochs=100,\n",
        "        validation_data = (X_test, Y_test),\n",
        "        callbacks=[early_stopping])  \n"
      ],
      "execution_count": 0,
      "outputs": []
    },
    {
      "cell_type": "code",
      "metadata": {
        "id": "alF93CW_HzQS",
        "colab_type": "code",
        "outputId": "0d26baba-665b-48ab-ee9a-664232af9425",
        "colab": {
          "base_uri": "https://localhost:8080/",
          "height": 445
        }
      },
      "source": [
        "fitter_functions(create_base_model(),A1_X_train,A1_X_test,A1_Y_train,A1_Y_test,False)"
      ],
      "execution_count": 0,
      "outputs": [
        {
          "output_type": "stream",
          "text": [
            "Epoch 1/100\n",
            "15/15 [==============================] - 23s 2s/step - loss: 60.2430 - mean_Difference_in_Count: -2.2111 - std_Difference_in_Count: 2.0287 - mean_absolute_Difference_in_Count: 5.9444 - std_absolute_Difference_in_Count: 1.7706 - MSE: 54.7889 - val_loss: 31.2227 - val_mean_Difference_in_Count: 4.6333 - val_std_Difference_in_Count: 2.1718 - val_mean_absolute_Difference_in_Count: 4.7000 - val_std_absolute_Difference_in_Count: 2.0609 - val_MSE: 27.1000\n",
            "Epoch 2/100\n",
            "15/15 [==============================] - 22s 1s/step - loss: 16.6580 - mean_Difference_in_Count: 0.0111 - std_Difference_in_Count: 2.2556 - mean_absolute_Difference_in_Count: 2.9000 - std_absolute_Difference_in_Count: 1.8577 - MSE: 13.0111 - val_loss: 12.9103 - val_mean_Difference_in_Count: 2.3000 - val_std_Difference_in_Count: 1.9928 - val_mean_absolute_Difference_in_Count: 2.7000 - val_std_absolute_Difference_in_Count: 1.4878 - val_MSE: 9.9000\n",
            "Epoch 3/100\n",
            "15/15 [==============================] - 22s 1s/step - loss: 14.4031 - mean_Difference_in_Count: 0.0556 - std_Difference_in_Count: 2.0707 - mean_absolute_Difference_in_Count: 2.7444 - std_absolute_Difference_in_Count: 1.6882 - MSE: 12.1667 - val_loss: 6.7727 - val_mean_Difference_in_Count: 0.6333 - val_std_Difference_in_Count: 1.8251 - val_mean_absolute_Difference_in_Count: 1.7667 - val_std_absolute_Difference_in_Count: 0.9626 - val_MSE: 4.3000\n",
            "Epoch 4/100\n",
            "15/15 [==============================] - 23s 2s/step - loss: 11.7919 - mean_Difference_in_Count: -0.3778 - std_Difference_in_Count: 2.0614 - mean_absolute_Difference_in_Count: 2.4889 - std_absolute_Difference_in_Count: 1.5024 - MSE: 9.6667 - val_loss: 5.9317 - val_mean_Difference_in_Count: -0.5333 - val_std_Difference_in_Count: 1.7435 - val_mean_absolute_Difference_in_Count: 1.5333 - val_std_absolute_Difference_in_Count: 1.2147 - val_MSE: 4.0667\n",
            "Epoch 5/100\n",
            "15/15 [==============================] - 22s 1s/step - loss: 8.6944 - mean_Difference_in_Count: -0.3556 - std_Difference_in_Count: 1.9964 - mean_absolute_Difference_in_Count: 2.0000 - std_absolute_Difference_in_Count: 1.3492 - MSE: 6.5778 - val_loss: 6.1337 - val_mean_Difference_in_Count: -0.9333 - val_std_Difference_in_Count: 1.5916 - val_mean_absolute_Difference_in_Count: 1.5333 - val_std_absolute_Difference_in_Count: 1.2760 - val_MSE: 4.2000\n",
            "Epoch 6/100\n",
            "15/15 [==============================] - 22s 1s/step - loss: 9.1177 - mean_Difference_in_Count: -0.5222 - std_Difference_in_Count: 2.0697 - mean_absolute_Difference_in_Count: 2.1444 - std_absolute_Difference_in_Count: 1.4928 - MSE: 7.4333 - val_loss: 5.7629 - val_mean_Difference_in_Count: 0.6000 - val_std_Difference_in_Count: 1.6573 - val_mean_absolute_Difference_in_Count: 1.6000 - val_std_absolute_Difference_in_Count: 0.8521 - val_MSE: 3.6667\n",
            "Epoch 7/100\n",
            "15/15 [==============================] - 22s 1s/step - loss: 6.7365 - mean_Difference_in_Count: -0.0889 - std_Difference_in_Count: 1.7907 - mean_absolute_Difference_in_Count: 1.8222 - std_absolute_Difference_in_Count: 1.1421 - MSE: 5.1111 - val_loss: 5.2346 - val_mean_Difference_in_Count: -1.4901e-08 - val_std_Difference_in_Count: 1.6832 - val_mean_absolute_Difference_in_Count: 1.5333 - val_std_absolute_Difference_in_Count: 1.0558 - val_MSE: 3.8667\n",
            "Epoch 8/100\n",
            "15/15 [==============================] - 22s 1s/step - loss: 6.8903 - mean_Difference_in_Count: -0.0556 - std_Difference_in_Count: 1.9166 - mean_absolute_Difference_in_Count: 1.8778 - std_absolute_Difference_in_Count: 1.1454 - MSE: 5.1000 - val_loss: 10.3756 - val_mean_Difference_in_Count: 2.1667 - val_std_Difference_in_Count: 1.7838 - val_mean_absolute_Difference_in_Count: 2.5667 - val_std_absolute_Difference_in_Count: 1.2903 - val_MSE: 8.9000\n",
            "Epoch 9/100\n",
            "15/15 [==============================] - 22s 1s/step - loss: 8.9319 - mean_Difference_in_Count: -0.1667 - std_Difference_in_Count: 2.0141 - mean_absolute_Difference_in_Count: 2.1667 - std_absolute_Difference_in_Count: 1.4500 - MSE: 7.4778 - val_loss: 5.2261 - val_mean_Difference_in_Count: -0.2667 - val_std_Difference_in_Count: 1.7203 - val_mean_absolute_Difference_in_Count: 1.4667 - val_std_absolute_Difference_in_Count: 1.1463 - val_MSE: 3.8000\n",
            "Epoch 10/100\n",
            "15/15 [==============================] - 22s 1s/step - loss: 6.8882 - mean_Difference_in_Count: 0.0444 - std_Difference_in_Count: 2.0727 - mean_absolute_Difference_in_Count: 1.8222 - std_absolute_Difference_in_Count: 1.2255 - MSE: 5.2889 - val_loss: 5.1595 - val_mean_Difference_in_Count: -0.1667 - val_std_Difference_in_Count: 1.6578 - val_mean_absolute_Difference_in_Count: 1.4333 - val_std_absolute_Difference_in_Count: 1.0837 - val_MSE: 3.6333\n",
            "Epoch 11/100\n",
            "15/15 [==============================] - 22s 1s/step - loss: 7.0577 - mean_Difference_in_Count: -0.2222 - std_Difference_in_Count: 1.7325 - mean_absolute_Difference_in_Count: 1.9556 - std_absolute_Difference_in_Count: 1.1039 - MSE: 5.6444 - val_loss: 5.5920 - val_mean_Difference_in_Count: 0.6333 - val_std_Difference_in_Count: 1.6324 - val_mean_absolute_Difference_in_Count: 1.6333 - val_std_absolute_Difference_in_Count: 0.7732 - val_MSE: 3.9000\n",
            "Epoch 12/100\n",
            "15/15 [==============================] - 22s 1s/step - loss: 6.5719 - mean_Difference_in_Count: -3.9736e-09 - std_Difference_in_Count: 1.8534 - mean_absolute_Difference_in_Count: 1.7333 - std_absolute_Difference_in_Count: 1.2650 - MSE: 5.0222 - val_loss: 5.7437 - val_mean_Difference_in_Count: 0.7000 - val_std_Difference_in_Count: 1.7096 - val_mean_absolute_Difference_in_Count: 1.7000 - val_std_absolute_Difference_in_Count: 0.8492 - val_MSE: 4.1667\n"
          ],
          "name": "stdout"
        }
      ]
    },
    {
      "cell_type": "code",
      "metadata": {
        "id": "aG9fZ9Y6QqMi",
        "colab_type": "code",
        "outputId": "11b5a279-72f9-4291-c378-f16661adec7c",
        "colab": {
          "base_uri": "https://localhost:8080/",
          "height": 479
        }
      },
      "source": [
        "fitter_functions(create_base_model(),A2_X_train,A2_X_test,A2_Y_train,A2_Y_test,False)"
      ],
      "execution_count": 0,
      "outputs": [
        {
          "output_type": "stream",
          "text": [
            "Epoch 1/100\n",
            "21/21 [==============================] - 33s 2s/step - loss: 28.5451 - mean_Difference_in_Count: -0.6190 - std_Difference_in_Count: 2.0142 - mean_absolute_Difference_in_Count: 3.8254 - std_absolute_Difference_in_Count: 1.6817 - MSE: 24.1905 - val_loss: 6.4060 - val_mean_Difference_in_Count: -0.9286 - val_std_Difference_in_Count: 1.6016 - val_mean_absolute_Difference_in_Count: 1.6905 - val_std_absolute_Difference_in_Count: 1.0019 - val_MSE: 4.5000\n",
            "Epoch 2/100\n",
            "21/21 [==============================] - 33s 2s/step - loss: 7.9929 - mean_Difference_in_Count: -0.4206 - std_Difference_in_Count: 2.0854 - mean_absolute_Difference_in_Count: 1.9286 - std_absolute_Difference_in_Count: 1.2698 - MSE: 5.8968 - val_loss: 5.5064 - val_mean_Difference_in_Count: 0.3810 - val_std_Difference_in_Count: 1.5368 - val_mean_absolute_Difference_in_Count: 1.5238 - val_std_absolute_Difference_in_Count: 1.0151 - val_MSE: 3.5238\n",
            "Epoch 3/100\n",
            "21/21 [==============================] - 31s 1s/step - loss: 8.6321 - mean_Difference_in_Count: 0.1111 - std_Difference_in_Count: 1.9510 - mean_absolute_Difference_in_Count: 2.0635 - std_absolute_Difference_in_Count: 1.3088 - MSE: 6.7937 - val_loss: 8.3430 - val_mean_Difference_in_Count: -1.6905 - val_std_Difference_in_Count: 1.5128 - val_mean_absolute_Difference_in_Count: 1.9762 - val_std_absolute_Difference_in_Count: 1.1483 - val_MSE: 6.0714\n",
            "Epoch 4/100\n",
            "21/21 [==============================] - 31s 1s/step - loss: 7.1008 - mean_Difference_in_Count: -0.4841 - std_Difference_in_Count: 1.7435 - mean_absolute_Difference_in_Count: 1.8175 - std_absolute_Difference_in_Count: 1.2216 - MSE: 5.5635 - val_loss: 5.5627 - val_mean_Difference_in_Count: 0.5952 - val_std_Difference_in_Count: 1.5404 - val_mean_absolute_Difference_in_Count: 1.5476 - val_std_absolute_Difference_in_Count: 1.0435 - val_MSE: 3.6905\n",
            "Epoch 5/100\n",
            "21/21 [==============================] - 31s 1s/step - loss: 6.9643 - mean_Difference_in_Count: 0.0794 - std_Difference_in_Count: 1.9770 - mean_absolute_Difference_in_Count: 1.8889 - std_absolute_Difference_in_Count: 1.2721 - MSE: 5.8413 - val_loss: 5.7598 - val_mean_Difference_in_Count: 0.8095 - val_std_Difference_in_Count: 1.5168 - val_mean_absolute_Difference_in_Count: 1.6667 - val_std_absolute_Difference_in_Count: 1.1131 - val_MSE: 4.2381\n",
            "Epoch 6/100\n",
            "21/21 [==============================] - 31s 1s/step - loss: 6.7387 - mean_Difference_in_Count: -0.2937 - std_Difference_in_Count: 1.8578 - mean_absolute_Difference_in_Count: 1.7381 - std_absolute_Difference_in_Count: 1.3105 - MSE: 5.1667 - val_loss: 6.1224 - val_mean_Difference_in_Count: -1.0952 - val_std_Difference_in_Count: 1.5410 - val_mean_absolute_Difference_in_Count: 1.7143 - val_std_absolute_Difference_in_Count: 1.0224 - val_MSE: 4.7143\n",
            "Epoch 7/100\n",
            "21/21 [==============================] - 32s 2s/step - loss: 6.5986 - mean_Difference_in_Count: -0.3730 - std_Difference_in_Count: 1.8524 - mean_absolute_Difference_in_Count: 1.8333 - std_absolute_Difference_in_Count: 1.2238 - MSE: 5.4524 - val_loss: 5.2837 - val_mean_Difference_in_Count: 0.4524 - val_std_Difference_in_Count: 1.6293 - val_mean_absolute_Difference_in_Count: 1.5952 - val_std_absolute_Difference_in_Count: 1.1399 - val_MSE: 4.0714\n",
            "Epoch 8/100\n",
            "21/21 [==============================] - 32s 2s/step - loss: 6.6487 - mean_Difference_in_Count: 0.2222 - std_Difference_in_Count: 1.7486 - mean_absolute_Difference_in_Count: 1.8730 - std_absolute_Difference_in_Count: 1.0985 - MSE: 5.3492 - val_loss: 4.9248 - val_mean_Difference_in_Count: 1.7030e-08 - val_std_Difference_in_Count: 1.5804 - val_mean_absolute_Difference_in_Count: 1.5714 - val_std_absolute_Difference_in_Count: 1.0412 - val_MSE: 3.8095\n",
            "Epoch 9/100\n",
            "21/21 [==============================] - 32s 2s/step - loss: 6.7471 - mean_Difference_in_Count: -0.5079 - std_Difference_in_Count: 1.6997 - mean_absolute_Difference_in_Count: 1.8413 - std_absolute_Difference_in_Count: 1.2022 - MSE: 5.3651 - val_loss: 5.5981 - val_mean_Difference_in_Count: -0.8810 - val_std_Difference_in_Count: 1.5579 - val_mean_absolute_Difference_in_Count: 1.6429 - val_std_absolute_Difference_in_Count: 1.0116 - val_MSE: 4.5000\n",
            "Epoch 10/100\n",
            "21/21 [==============================] - 31s 1s/step - loss: 6.2259 - mean_Difference_in_Count: 0.0238 - std_Difference_in_Count: 1.7684 - mean_absolute_Difference_in_Count: 1.8016 - std_absolute_Difference_in_Count: 1.1553 - MSE: 5.1508 - val_loss: 5.0444 - val_mean_Difference_in_Count: 0.4286 - val_std_Difference_in_Count: 1.5386 - val_mean_absolute_Difference_in_Count: 1.5714 - val_std_absolute_Difference_in_Count: 1.0564 - val_MSE: 3.8571\n",
            "Epoch 11/100\n",
            "21/21 [==============================] - 32s 2s/step - loss: 5.2317 - mean_Difference_in_Count: -0.2857 - std_Difference_in_Count: 1.6174 - mean_absolute_Difference_in_Count: 1.5873 - std_absolute_Difference_in_Count: 0.9814 - MSE: 4.0317 - val_loss: 5.2020 - val_mean_Difference_in_Count: 0.5238 - val_std_Difference_in_Count: 1.6155 - val_mean_absolute_Difference_in_Count: 1.5714 - val_std_absolute_Difference_in_Count: 1.1567 - val_MSE: 4.0952\n",
            "Epoch 12/100\n",
            "21/21 [==============================] - 31s 1s/step - loss: 5.2195 - mean_Difference_in_Count: -0.0397 - std_Difference_in_Count: 1.4789 - mean_absolute_Difference_in_Count: 1.5952 - std_absolute_Difference_in_Count: 1.1134 - MSE: 4.1667 - val_loss: 6.0140 - val_mean_Difference_in_Count: 1.0476 - val_std_Difference_in_Count: 1.6083 - val_mean_absolute_Difference_in_Count: 1.8571 - val_std_absolute_Difference_in_Count: 1.1831 - val_MSE: 5.0000\n",
            "Epoch 13/100\n",
            "21/21 [==============================] - 32s 2s/step - loss: 5.2937 - mean_Difference_in_Count: -0.0714 - std_Difference_in_Count: 1.7227 - mean_absolute_Difference_in_Count: 1.6429 - std_absolute_Difference_in_Count: 1.1167 - MSE: 4.2460 - val_loss: 5.2182 - val_mean_Difference_in_Count: 0.6429 - val_std_Difference_in_Count: 1.5972 - val_mean_absolute_Difference_in_Count: 1.5952 - val_std_absolute_Difference_in_Count: 1.1794 - val_MSE: 4.1667\n"
          ],
          "name": "stdout"
        }
      ]
    },
    {
      "cell_type": "code",
      "metadata": {
        "id": "XFobjSP9JIO5",
        "colab_type": "code",
        "outputId": "beca051f-6025-4668-e5e6-a1bf11098ed7",
        "colab": {
          "base_uri": "https://localhost:8080/",
          "height": 513
        }
      },
      "source": [
        "fitter_functions(create_base_model(),A3_X_train,A3_X_test,A3_Y_train,A3_Y_test,False)"
      ],
      "execution_count": 0,
      "outputs": [
        {
          "output_type": "stream",
          "text": [
            "Epoch 1/100\n",
            "8/8 [==============================] - 12s 1s/step - loss: 23.3357 - mean_Difference_in_Count: -0.9792 - std_Difference_in_Count: 2.3762 - mean_absolute_Difference_in_Count: 3.0833 - std_absolute_Difference_in_Count: 2.0394 - MSE: 16.8750 - val_loss: 19.6201 - val_mean_Difference_in_Count: -1.8611 - val_std_Difference_in_Count: 2.9202 - val_mean_absolute_Difference_in_Count: 2.8611 - val_std_absolute_Difference_in_Count: 2.0182 - val_MSE: 14.4167\n",
            "Epoch 2/100\n",
            "8/8 [==============================] - 12s 1s/step - loss: 11.6354 - mean_Difference_in_Count: -0.3646 - std_Difference_in_Count: 2.1477 - mean_absolute_Difference_in_Count: 1.9896 - std_absolute_Difference_in_Count: 1.3407 - MSE: 6.8021 - val_loss: 16.7797 - val_mean_Difference_in_Count: -0.0833 - val_std_Difference_in_Count: 2.9884 - val_mean_absolute_Difference_in_Count: 2.5833 - val_std_absolute_Difference_in_Count: 1.6627 - val_MSE: 11.6389\n",
            "Epoch 3/100\n",
            "8/8 [==============================] - 12s 1s/step - loss: 9.8785 - mean_Difference_in_Count: -0.2708 - std_Difference_in_Count: 2.1791 - mean_absolute_Difference_in_Count: 1.7083 - std_absolute_Difference_in_Count: 1.5271 - MSE: 5.6667 - val_loss: 15.0053 - val_mean_Difference_in_Count: -0.0556 - val_std_Difference_in_Count: 2.7127 - val_mean_absolute_Difference_in_Count: 2.5000 - val_std_absolute_Difference_in_Count: 1.4693 - val_MSE: 10.0000\n",
            "Epoch 4/100\n",
            "8/8 [==============================] - 11s 1s/step - loss: 8.9118 - mean_Difference_in_Count: -0.0937 - std_Difference_in_Count: 2.0869 - mean_absolute_Difference_in_Count: 1.8229 - std_absolute_Difference_in_Count: 1.2378 - MSE: 5.7812 - val_loss: 13.7568 - val_mean_Difference_in_Count: -0.6389 - val_std_Difference_in_Count: 2.5619 - val_mean_absolute_Difference_in_Count: 2.1389 - val_std_absolute_Difference_in_Count: 1.5672 - val_MSE: 9.9167\n",
            "Epoch 5/100\n",
            "8/8 [==============================] - 12s 1s/step - loss: 7.3298 - mean_Difference_in_Count: -0.4687 - std_Difference_in_Count: 1.6736 - mean_absolute_Difference_in_Count: 1.4896 - std_absolute_Difference_in_Count: 1.2334 - MSE: 4.1979 - val_loss: 13.0435 - val_mean_Difference_in_Count: 0.3056 - val_std_Difference_in_Count: 2.5728 - val_mean_absolute_Difference_in_Count: 2.5278 - val_std_absolute_Difference_in_Count: 1.2501 - val_MSE: 9.8056\n",
            "Epoch 6/100\n",
            "8/8 [==============================] - 12s 1s/step - loss: 6.2693 - mean_Difference_in_Count: -0.0938 - std_Difference_in_Count: 1.7287 - mean_absolute_Difference_in_Count: 1.4479 - std_absolute_Difference_in_Count: 1.1551 - MSE: 3.6979 - val_loss: 12.4977 - val_mean_Difference_in_Count: 0.3333 - val_std_Difference_in_Count: 2.5977 - val_mean_absolute_Difference_in_Count: 2.5556 - val_std_absolute_Difference_in_Count: 1.4591 - val_MSE: 10.1111\n",
            "Epoch 7/100\n",
            "8/8 [==============================] - 12s 1s/step - loss: 6.2090 - mean_Difference_in_Count: -0.0208 - std_Difference_in_Count: 1.6430 - mean_absolute_Difference_in_Count: 1.5417 - std_absolute_Difference_in_Count: 1.1435 - MSE: 4.2708 - val_loss: 11.4217 - val_mean_Difference_in_Count: 0.0000e+00 - val_std_Difference_in_Count: 2.3641 - val_mean_absolute_Difference_in_Count: 2.1111 - val_std_absolute_Difference_in_Count: 1.4395 - val_MSE: 7.9444\n",
            "Epoch 8/100\n",
            "8/8 [==============================] - 11s 1s/step - loss: 4.9067 - mean_Difference_in_Count: -0.3125 - std_Difference_in_Count: 1.5474 - mean_absolute_Difference_in_Count: 1.2292 - std_absolute_Difference_in_Count: 0.9626 - MSE: 2.8125 - val_loss: 11.5423 - val_mean_Difference_in_Count: 0.7778 - val_std_Difference_in_Count: 2.3032 - val_mean_absolute_Difference_in_Count: 2.3333 - val_std_absolute_Difference_in_Count: 1.3516 - val_MSE: 8.3333\n",
            "Epoch 9/100\n",
            "8/8 [==============================] - 12s 1s/step - loss: 4.3888 - mean_Difference_in_Count: 0.1979 - std_Difference_in_Count: 1.3343 - mean_absolute_Difference_in_Count: 1.1979 - std_absolute_Difference_in_Count: 0.8516 - MSE: 2.4479 - val_loss: 10.6912 - val_mean_Difference_in_Count: -0.4167 - val_std_Difference_in_Count: 2.3103 - val_mean_absolute_Difference_in_Count: 1.9722 - val_std_absolute_Difference_in_Count: 1.2746 - val_MSE: 7.7500\n",
            "Epoch 10/100\n",
            "8/8 [==============================] - 11s 1s/step - loss: 4.5131 - mean_Difference_in_Count: -0.1458 - std_Difference_in_Count: 1.2274 - mean_absolute_Difference_in_Count: 1.2292 - std_absolute_Difference_in_Count: 0.9016 - MSE: 2.6458 - val_loss: 14.2638 - val_mean_Difference_in_Count: 1.6667 - val_std_Difference_in_Count: 2.5138 - val_mean_absolute_Difference_in_Count: 2.8889 - val_std_absolute_Difference_in_Count: 1.5967 - val_MSE: 11.6667\n",
            "Epoch 11/100\n",
            "8/8 [==============================] - 11s 1s/step - loss: 4.5833 - mean_Difference_in_Count: -0.5625 - std_Difference_in_Count: 1.3981 - mean_absolute_Difference_in_Count: 1.3542 - std_absolute_Difference_in_Count: 1.1253 - MSE: 3.5417 - val_loss: 12.0729 - val_mean_Difference_in_Count: 1.0000 - val_std_Difference_in_Count: 2.5158 - val_mean_absolute_Difference_in_Count: 2.5556 - val_std_absolute_Difference_in_Count: 1.4970 - val_MSE: 10.0000\n",
            "Epoch 12/100\n",
            "8/8 [==============================] - 11s 1s/step - loss: 5.4297 - mean_Difference_in_Count: 0.3125 - std_Difference_in_Count: 1.4005 - mean_absolute_Difference_in_Count: 1.6042 - std_absolute_Difference_in_Count: 0.9407 - MSE: 4.1875 - val_loss: 11.7124 - val_mean_Difference_in_Count: -1.2222 - val_std_Difference_in_Count: 2.2011 - val_mean_absolute_Difference_in_Count: 2.3333 - val_std_absolute_Difference_in_Count: 1.3058 - val_MSE: 9.3333\n",
            "Epoch 13/100\n",
            "8/8 [==============================] - 11s 1s/step - loss: 5.4968 - mean_Difference_in_Count: 0.1042 - std_Difference_in_Count: 1.1100 - mean_absolute_Difference_in_Count: 1.5417 - std_absolute_Difference_in_Count: 0.8399 - MSE: 3.7500 - val_loss: 12.0262 - val_mean_Difference_in_Count: 0.6111 - val_std_Difference_in_Count: 2.3565 - val_mean_absolute_Difference_in_Count: 2.2778 - val_std_absolute_Difference_in_Count: 1.4348 - val_MSE: 9.6111\n",
            "Epoch 14/100\n",
            "8/8 [==============================] - 11s 1s/step - loss: 4.1784 - mean_Difference_in_Count: -0.5312 - std_Difference_in_Count: 1.1024 - mean_absolute_Difference_in_Count: 1.2396 - std_absolute_Difference_in_Count: 0.7659 - MSE: 2.5938 - val_loss: 13.6411 - val_mean_Difference_in_Count: 1.0833 - val_std_Difference_in_Count: 2.6708 - val_mean_absolute_Difference_in_Count: 2.4167 - val_std_absolute_Difference_in_Count: 1.8188 - val_MSE: 10.5278\n"
          ],
          "name": "stdout"
        }
      ]
    },
    {
      "cell_type": "code",
      "metadata": {
        "id": "Uv2dPbCWS73u",
        "colab_type": "code",
        "outputId": "7fd7b34d-9714-4c5b-bcba-12eec70015f3",
        "colab": {
          "base_uri": "https://localhost:8080/",
          "height": 1000
        }
      },
      "source": [
        "fitter_functions(create_base_model(),A4_X_train,A4_X_test,A4_Y_train,A4_Y_test,False)"
      ],
      "execution_count": 0,
      "outputs": [
        {
          "output_type": "stream",
          "text": [
            "Epoch 1/100\n",
            "78/78 [==============================] - 4s 46ms/step - loss: 19.1447 - mean_Difference_in_Count: -0.3483 - std_Difference_in_Count: 2.4226 - mean_absolute_Difference_in_Count: 2.8355 - std_absolute_Difference_in_Count: 1.7570 - MSE: 16.0192 - val_loss: 8.1346 - val_mean_Difference_in_Count: 0.8205 - val_std_Difference_in_Count: 1.9838 - val_mean_absolute_Difference_in_Count: 1.9744 - val_std_absolute_Difference_in_Count: 1.3150 - val_MSE: 6.3205\n",
            "Epoch 2/100\n",
            "78/78 [==============================] - 3s 40ms/step - loss: 8.8449 - mean_Difference_in_Count: -0.0919 - std_Difference_in_Count: 2.0887 - mean_absolute_Difference_in_Count: 2.0491 - std_absolute_Difference_in_Count: 1.4078 - MSE: 7.2543 - val_loss: 6.3215 - val_mean_Difference_in_Count: 0.6154 - val_std_Difference_in_Count: 1.8461 - val_mean_absolute_Difference_in_Count: 1.7308 - val_std_absolute_Difference_in_Count: 1.2123 - val_MSE: 4.9872\n",
            "Epoch 3/100\n",
            "78/78 [==============================] - 3s 36ms/step - loss: 7.8415 - mean_Difference_in_Count: -0.0598 - std_Difference_in_Count: 1.8421 - mean_absolute_Difference_in_Count: 1.9915 - std_absolute_Difference_in_Count: 1.2672 - MSE: 6.6795 - val_loss: 6.2152 - val_mean_Difference_in_Count: -0.2692 - val_std_Difference_in_Count: 1.9362 - val_mean_absolute_Difference_in_Count: 1.6795 - val_std_absolute_Difference_in_Count: 1.2593 - val_MSE: 4.9744\n",
            "Epoch 4/100\n",
            "78/78 [==============================] - 3s 33ms/step - loss: 6.7549 - mean_Difference_in_Count: -0.0577 - std_Difference_in_Count: 1.8089 - mean_absolute_Difference_in_Count: 1.8056 - std_absolute_Difference_in_Count: 1.2850 - MSE: 5.5919 - val_loss: 13.1524 - val_mean_Difference_in_Count: -2.7372 - val_std_Difference_in_Count: 1.8581 - val_mean_absolute_Difference_in_Count: 2.9295 - val_std_absolute_Difference_in_Count: 1.6681 - val_MSE: 12.2885\n",
            "Epoch 5/100\n",
            "78/78 [==============================] - 3s 33ms/step - loss: 7.5334 - mean_Difference_in_Count: -0.1731 - std_Difference_in_Count: 1.8862 - mean_absolute_Difference_in_Count: 2.0021 - std_absolute_Difference_in_Count: 1.3601 - MSE: 6.5748 - val_loss: 7.0954 - val_mean_Difference_in_Count: -1.5128 - val_std_Difference_in_Count: 1.7293 - val_mean_absolute_Difference_in_Count: 1.9615 - val_std_absolute_Difference_in_Count: 1.3187 - val_MSE: 6.2821\n",
            "Epoch 6/100\n",
            "78/78 [==============================] - 3s 33ms/step - loss: 5.7498 - mean_Difference_in_Count: -0.0021 - std_Difference_in_Count: 1.8269 - mean_absolute_Difference_in_Count: 1.7073 - std_absolute_Difference_in_Count: 1.2092 - MSE: 4.9167 - val_loss: 6.9644 - val_mean_Difference_in_Count: -1.4038 - val_std_Difference_in_Count: 1.7502 - val_mean_absolute_Difference_in_Count: 1.8654 - val_std_absolute_Difference_in_Count: 1.4272 - val_MSE: 6.1603\n",
            "Epoch 7/100\n",
            "78/78 [==============================] - 3s 37ms/step - loss: 6.2321 - mean_Difference_in_Count: -0.1261 - std_Difference_in_Count: 1.7584 - mean_absolute_Difference_in_Count: 1.7500 - std_absolute_Difference_in_Count: 1.2582 - MSE: 5.5150 - val_loss: 4.5575 - val_mean_Difference_in_Count: 0.3590 - val_std_Difference_in_Count: 1.6309 - val_mean_absolute_Difference_in_Count: 1.4487 - val_std_absolute_Difference_in_Count: 1.0553 - val_MSE: 3.7436\n",
            "Epoch 8/100\n",
            "78/78 [==============================] - 3s 33ms/step - loss: 5.0806 - mean_Difference_in_Count: -0.0983 - std_Difference_in_Count: 1.6012 - mean_absolute_Difference_in_Count: 1.6068 - std_absolute_Difference_in_Count: 1.0903 - MSE: 4.4744 - val_loss: 5.4530 - val_mean_Difference_in_Count: 1.1346 - val_std_Difference_in_Count: 1.6306 - val_mean_absolute_Difference_in_Count: 1.7372 - val_std_absolute_Difference_in_Count: 1.1122 - val_MSE: 4.9167\n",
            "Epoch 9/100\n",
            "78/78 [==============================] - 3s 37ms/step - loss: 5.0480 - mean_Difference_in_Count: -0.0577 - std_Difference_in_Count: 1.6389 - mean_absolute_Difference_in_Count: 1.5748 - std_absolute_Difference_in_Count: 1.0963 - MSE: 4.2628 - val_loss: 4.2401 - val_mean_Difference_in_Count: -0.1346 - val_std_Difference_in_Count: 1.6282 - val_mean_absolute_Difference_in_Count: 1.4038 - val_std_absolute_Difference_in_Count: 1.0277 - val_MSE: 3.6346\n",
            "Epoch 10/100\n",
            "78/78 [==============================] - 3s 33ms/step - loss: 5.4792 - mean_Difference_in_Count: -0.1068 - std_Difference_in_Count: 1.6595 - mean_absolute_Difference_in_Count: 1.7222 - std_absolute_Difference_in_Count: 1.1796 - MSE: 4.9103 - val_loss: 5.7466 - val_mean_Difference_in_Count: -1.0449 - val_std_Difference_in_Count: 1.7399 - val_mean_absolute_Difference_in_Count: 1.6731 - val_std_absolute_Difference_in_Count: 1.3084 - val_MSE: 5.2115\n",
            "Epoch 11/100\n",
            "78/78 [==============================] - 3s 33ms/step - loss: 4.7110 - mean_Difference_in_Count: -0.0726 - std_Difference_in_Count: 1.5222 - mean_absolute_Difference_in_Count: 1.5427 - std_absolute_Difference_in_Count: 1.1002 - MSE: 4.1410 - val_loss: 4.2442 - val_mean_Difference_in_Count: 0.2372 - val_std_Difference_in_Count: 1.6284 - val_mean_absolute_Difference_in_Count: 1.4295 - val_std_absolute_Difference_in_Count: 1.0224 - val_MSE: 3.6731\n",
            "Epoch 12/100\n",
            "78/78 [==============================] - 3s 33ms/step - loss: 4.9045 - mean_Difference_in_Count: -0.1282 - std_Difference_in_Count: 1.5439 - mean_absolute_Difference_in_Count: 1.6239 - std_absolute_Difference_in_Count: 1.0750 - MSE: 4.3846 - val_loss: 4.2004 - val_mean_Difference_in_Count: -0.3397 - val_std_Difference_in_Count: 1.6653 - val_mean_absolute_Difference_in_Count: 1.4423 - val_std_absolute_Difference_in_Count: 1.0650 - val_MSE: 3.8013\n",
            "Epoch 13/100\n",
            "78/78 [==============================] - 3s 33ms/step - loss: 4.4441 - mean_Difference_in_Count: -0.0748 - std_Difference_in_Count: 1.6149 - mean_absolute_Difference_in_Count: 1.5192 - std_absolute_Difference_in_Count: 1.1136 - MSE: 4.0406 - val_loss: 7.9817 - val_mean_Difference_in_Count: 1.9872 - val_std_Difference_in_Count: 1.6209 - val_mean_absolute_Difference_in_Count: 2.1923 - val_std_absolute_Difference_in_Count: 1.4062 - val_MSE: 7.3718\n",
            "Epoch 14/100\n",
            "78/78 [==============================] - 3s 35ms/step - loss: 4.8361 - mean_Difference_in_Count: -0.0876 - std_Difference_in_Count: 1.5929 - mean_absolute_Difference_in_Count: 1.6175 - std_absolute_Difference_in_Count: 1.1015 - MSE: 4.4038 - val_loss: 4.1957 - val_mean_Difference_in_Count: -0.6410 - val_std_Difference_in_Count: 1.5375 - val_mean_absolute_Difference_in_Count: 1.3846 - val_std_absolute_Difference_in_Count: 1.0925 - val_MSE: 3.6538\n"
          ],
          "name": "stdout"
        }
      ]
    },
    {
      "cell_type": "code",
      "metadata": {
        "id": "fwYjvvfk1w4E",
        "colab_type": "code",
        "outputId": "5d97899d-3644-44b7-8217-5b351b94b89f",
        "colab": {
          "base_uri": "https://localhost:8080/",
          "height": 905
        }
      },
      "source": [
        "fitter_functions(create_base_model(),Ac_X_train,Ac_X_test,Ac_Y_train,Ac_Y_test,False)"
      ],
      "execution_count": 0,
      "outputs": [
        {
          "output_type": "stream",
          "text": [
            "Epoch 1/100\n",
            "122/122 [==============================] - 5s 45ms/step - loss: 26.8935 - mean_Difference_in_Count: -0.1557 - std_Difference_in_Count: 3.1426 - mean_absolute_Difference_in_Count: 3.5902 - std_absolute_Difference_in_Count: 2.1695 - MSE: 24.6038 - val_loss: 12.3848 - val_mean_Difference_in_Count: -1.4065 - val_std_Difference_in_Count: 2.2709 - val_mean_absolute_Difference_in_Count: 2.5285 - val_std_absolute_Difference_in_Count: 1.7096 - val_MSE: 10.6423\n",
            "Epoch 2/100\n",
            "122/122 [==============================] - 4s 37ms/step - loss: 12.0830 - mean_Difference_in_Count: -0.1926 - std_Difference_in_Count: 2.6180 - mean_absolute_Difference_in_Count: 2.5451 - std_absolute_Difference_in_Count: 1.6601 - MSE: 10.4904 - val_loss: 7.7682 - val_mean_Difference_in_Count: 0.2053 - val_std_Difference_in_Count: 2.0762 - val_mean_absolute_Difference_in_Count: 1.8963 - val_std_absolute_Difference_in_Count: 1.3595 - val_MSE: 6.2541\n",
            "Epoch 3/100\n",
            "122/122 [==============================] - 4s 34ms/step - loss: 9.2110 - mean_Difference_in_Count: -0.1175 - std_Difference_in_Count: 2.2628 - mean_absolute_Difference_in_Count: 2.1803 - std_absolute_Difference_in_Count: 1.5047 - MSE: 7.9645 - val_loss: 10.5079 - val_mean_Difference_in_Count: -1.7419 - val_std_Difference_in_Count: 2.0675 - val_mean_absolute_Difference_in_Count: 2.3191 - val_std_absolute_Difference_in_Count: 1.6100 - val_MSE: 9.2541\n",
            "Epoch 4/100\n",
            "122/122 [==============================] - 4s 34ms/step - loss: 9.5985 - mean_Difference_in_Count: -0.1858 - std_Difference_in_Count: 2.2443 - mean_absolute_Difference_in_Count: 2.2432 - std_absolute_Difference_in_Count: 1.5045 - MSE: 8.4536 - val_loss: 8.7927 - val_mean_Difference_in_Count: -1.2744 - val_std_Difference_in_Count: 2.0838 - val_mean_absolute_Difference_in_Count: 2.0874 - val_std_absolute_Difference_in_Count: 1.5087 - val_MSE: 7.8110\n",
            "Epoch 5/100\n",
            "122/122 [==============================] - 4s 37ms/step - loss: 7.6433 - mean_Difference_in_Count: -0.0970 - std_Difference_in_Count: 2.2006 - mean_absolute_Difference_in_Count: 1.9904 - std_absolute_Difference_in_Count: 1.3317 - MSE: 6.6735 - val_loss: 6.0453 - val_mean_Difference_in_Count: 0.3902 - val_std_Difference_in_Count: 1.8370 - val_mean_absolute_Difference_in_Count: 1.6789 - val_std_absolute_Difference_in_Count: 1.1966 - val_MSE: 5.0244\n",
            "Epoch 6/100\n",
            "122/122 [==============================] - 4s 34ms/step - loss: 7.4226 - mean_Difference_in_Count: -0.1366 - std_Difference_in_Count: 2.0719 - mean_absolute_Difference_in_Count: 1.9536 - std_absolute_Difference_in_Count: 1.4010 - MSE: 6.5574 - val_loss: 9.3116 - val_mean_Difference_in_Count: 1.8415 - val_std_Difference_in_Count: 1.8527 - val_mean_absolute_Difference_in_Count: 2.3374 - val_std_absolute_Difference_in_Count: 1.4502 - val_MSE: 8.4878\n",
            "Epoch 7/100\n",
            "122/122 [==============================] - 4s 34ms/step - loss: 7.2279 - mean_Difference_in_Count: -0.1120 - std_Difference_in_Count: 1.9586 - mean_absolute_Difference_in_Count: 1.9836 - std_absolute_Difference_in_Count: 1.3173 - MSE: 6.4180 - val_loss: 6.5173 - val_mean_Difference_in_Count: 0.9309 - val_std_Difference_in_Count: 1.8428 - val_mean_absolute_Difference_in_Count: 1.8374 - val_std_absolute_Difference_in_Count: 1.2284 - val_MSE: 5.6138\n",
            "Epoch 8/100\n",
            "122/122 [==============================] - 4s 37ms/step - loss: 6.6432 - mean_Difference_in_Count: -0.1230 - std_Difference_in_Count: 2.0264 - mean_absolute_Difference_in_Count: 1.8716 - std_absolute_Difference_in_Count: 1.2997 - MSE: 5.9891 - val_loss: 5.7138 - val_mean_Difference_in_Count: 0.5285 - val_std_Difference_in_Count: 1.8252 - val_mean_absolute_Difference_in_Count: 1.7033 - val_std_absolute_Difference_in_Count: 1.2095 - val_MSE: 5.0325\n",
            "Epoch 9/100\n",
            "122/122 [==============================] - 4s 34ms/step - loss: 6.3484 - mean_Difference_in_Count: -0.1366 - std_Difference_in_Count: 1.9175 - mean_absolute_Difference_in_Count: 1.8634 - std_absolute_Difference_in_Count: 1.2785 - MSE: 5.7268 - val_loss: 7.7057 - val_mean_Difference_in_Count: -1.3130 - val_std_Difference_in_Count: 1.8651 - val_mean_absolute_Difference_in_Count: 2.0122 - val_std_absolute_Difference_in_Count: 1.4469 - val_MSE: 7.0610\n",
            "Epoch 10/100\n",
            "122/122 [==============================] - 4s 34ms/step - loss: 6.2385 - mean_Difference_in_Count: -0.1926 - std_Difference_in_Count: 1.9787 - mean_absolute_Difference_in_Count: 1.8648 - std_absolute_Difference_in_Count: 1.2135 - MSE: 5.6298 - val_loss: 5.8017 - val_mean_Difference_in_Count: 0.8679 - val_std_Difference_in_Count: 1.8001 - val_mean_absolute_Difference_in_Count: 1.7541 - val_std_absolute_Difference_in_Count: 1.2510 - val_MSE: 5.1646\n",
            "Epoch 11/100\n",
            "122/122 [==============================] - 4s 33ms/step - loss: 5.9035 - mean_Difference_in_Count: -0.1216 - std_Difference_in_Count: 1.9012 - mean_absolute_Difference_in_Count: 1.7910 - std_absolute_Difference_in_Count: 1.2237 - MSE: 5.3265 - val_loss: 8.2884 - val_mean_Difference_in_Count: 1.8150 - val_std_Difference_in_Count: 1.8037 - val_mean_absolute_Difference_in_Count: 2.3191 - val_std_absolute_Difference_in_Count: 1.3527 - val_MSE: 7.8150\n",
            "Epoch 12/100\n",
            "122/122 [==============================] - 4s 34ms/step - loss: 5.8276 - mean_Difference_in_Count: -0.0669 - std_Difference_in_Count: 1.8432 - mean_absolute_Difference_in_Count: 1.8238 - std_absolute_Difference_in_Count: 1.2264 - MSE: 5.4331 - val_loss: 6.0911 - val_mean_Difference_in_Count: 1.0000 - val_std_Difference_in_Count: 1.8036 - val_mean_absolute_Difference_in_Count: 1.8496 - val_std_absolute_Difference_in_Count: 1.2238 - val_MSE: 5.6179\n",
            "Epoch 13/100\n",
            "122/122 [==============================] - 4s 35ms/step - loss: 5.9781 - mean_Difference_in_Count: -0.1107 - std_Difference_in_Count: 1.8429 - mean_absolute_Difference_in_Count: 1.8046 - std_absolute_Difference_in_Count: 1.2777 - MSE: 5.5396 - val_loss: 7.8137 - val_mean_Difference_in_Count: -1.4065 - val_std_Difference_in_Count: 1.9410 - val_mean_absolute_Difference_in_Count: 2.0325 - val_std_absolute_Difference_in_Count: 1.4609 - val_MSE: 7.4878\n"
          ],
          "name": "stdout"
        }
      ]
    },
    {
      "cell_type": "code",
      "metadata": {
        "id": "u3iENIeQcLde",
        "colab_type": "code",
        "outputId": "0438298d-3740-439f-8651-a5ccd8c42191",
        "colab": {
          "base_uri": "https://localhost:8080/",
          "height": 445
        }
      },
      "source": [
        "fitter_functions(create_Xception_model(),A1_X_train,A1_X_test,A1_Y_train,A1_Y_test,False)"
      ],
      "execution_count": 0,
      "outputs": [
        {
          "output_type": "stream",
          "text": [
            "Epoch 1/100\n",
            "15/15 [==============================] - 132s 9s/step - loss: 82.5234 - mean_Difference_in_Count: -3.9222 - std_Difference_in_Count: 3.1652 - mean_absolute_Difference_in_Count: 7.2333 - std_absolute_Difference_in_Count: 2.3732 - MSE: 77.5667 - val_loss: 170.2195 - val_mean_Difference_in_Count: -12.4667 - val_std_Difference_in_Count: 1.5096 - val_mean_absolute_Difference_in_Count: 12.4667 - val_std_absolute_Difference_in_Count: 1.5096 - val_MSE: 158.1333\n",
            "Epoch 2/100\n",
            "15/15 [==============================] - 129s 9s/step - loss: 16.1127 - mean_Difference_in_Count: -0.2444 - std_Difference_in_Count: 2.5045 - mean_absolute_Difference_in_Count: 2.5778 - std_absolute_Difference_in_Count: 1.8543 - MSE: 11.5556 - val_loss: 111.4736 - val_mean_Difference_in_Count: -10.3000 - val_std_Difference_in_Count: 1.3873 - val_mean_absolute_Difference_in_Count: 10.3000 - val_std_absolute_Difference_in_Count: 1.3873 - val_MSE: 108.3667\n",
            "Epoch 3/100\n",
            "15/15 [==============================] - 134s 9s/step - loss: 12.3495 - mean_Difference_in_Count: -0.3333 - std_Difference_in_Count: 2.1729 - mean_absolute_Difference_in_Count: 2.2889 - std_absolute_Difference_in_Count: 1.5399 - MSE: 8.4444 - val_loss: 104.8033 - val_mean_Difference_in_Count: -10.3000 - val_std_Difference_in_Count: 1.3873 - val_mean_absolute_Difference_in_Count: 10.3000 - val_std_absolute_Difference_in_Count: 1.3873 - val_MSE: 108.3667\n",
            "Epoch 4/100\n",
            "15/15 [==============================] - 129s 9s/step - loss: 8.3374 - mean_Difference_in_Count: -0.0778 - std_Difference_in_Count: 1.7771 - mean_absolute_Difference_in_Count: 1.7667 - std_absolute_Difference_in_Count: 1.1783 - MSE: 4.9444 - val_loss: 124.7003 - val_mean_Difference_in_Count: -11.3000 - val_std_Difference_in_Count: 1.3873 - val_mean_absolute_Difference_in_Count: 11.3000 - val_std_absolute_Difference_in_Count: 1.3873 - val_MSE: 129.9667\n",
            "Epoch 5/100\n",
            "15/15 [==============================] - 129s 9s/step - loss: 7.2223 - mean_Difference_in_Count: -0.2556 - std_Difference_in_Count: 1.8292 - mean_absolute_Difference_in_Count: 1.5889 - std_absolute_Difference_in_Count: 1.1492 - MSE: 4.1667 - val_loss: 110.0697 - val_mean_Difference_in_Count: -10.3000 - val_std_Difference_in_Count: 1.3873 - val_mean_absolute_Difference_in_Count: 10.3000 - val_std_absolute_Difference_in_Count: 1.3873 - val_MSE: 108.3667\n",
            "Epoch 6/100\n",
            "15/15 [==============================] - 129s 9s/step - loss: 6.7025 - mean_Difference_in_Count: -0.2000 - std_Difference_in_Count: 1.4344 - mean_absolute_Difference_in_Count: 1.5778 - std_absolute_Difference_in_Count: 1.0571 - MSE: 3.8444 - val_loss: 14.8568 - val_mean_Difference_in_Count: 2.7333 - val_std_Difference_in_Count: 1.4260 - val_mean_absolute_Difference_in_Count: 2.8000 - val_std_absolute_Difference_in_Count: 1.3357 - val_MSE: 9.9333\n",
            "Epoch 7/100\n",
            "15/15 [==============================] - 132s 9s/step - loss: 7.9993 - mean_Difference_in_Count: -0.2222 - std_Difference_in_Count: 1.4567 - mean_absolute_Difference_in_Count: 1.7556 - std_absolute_Difference_in_Count: 1.0519 - MSE: 5.4000 - val_loss: 5.0988 - val_mean_Difference_in_Count: -0.3000 - val_std_Difference_in_Count: 1.3873 - val_mean_absolute_Difference_in_Count: 1.1000 - val_std_absolute_Difference_in_Count: 0.9611 - val_MSE: 2.3667\n",
            "Epoch 8/100\n",
            "15/15 [==============================] - 131s 9s/step - loss: 7.4227 - mean_Difference_in_Count: -7.9473e-09 - std_Difference_in_Count: 1.4302 - mean_absolute_Difference_in_Count: 1.7333 - std_absolute_Difference_in_Count: 1.0243 - MSE: 4.9778 - val_loss: 50.5552 - val_mean_Difference_in_Count: -6.5000 - val_std_Difference_in_Count: 1.4199 - val_mean_absolute_Difference_in_Count: 6.5000 - val_std_absolute_Difference_in_Count: 1.4199 - val_MSE: 44.7000\n",
            "Epoch 9/100\n",
            "15/15 [==============================] - 129s 9s/step - loss: 7.6293 - mean_Difference_in_Count: -0.1333 - std_Difference_in_Count: 1.3436 - mean_absolute_Difference_in_Count: 1.8889 - std_absolute_Difference_in_Count: 1.0291 - MSE: 5.1556 - val_loss: 114.0400 - val_mean_Difference_in_Count: -10.3000 - val_std_Difference_in_Count: 1.3873 - val_mean_absolute_Difference_in_Count: 10.3000 - val_std_absolute_Difference_in_Count: 1.3873 - val_MSE: 108.3667\n",
            "Epoch 10/100\n",
            "15/15 [==============================] - 130s 9s/step - loss: 11.5922 - mean_Difference_in_Count: -0.1222 - std_Difference_in_Count: 1.2744 - mean_absolute_Difference_in_Count: 2.4333 - std_absolute_Difference_in_Count: 1.1063 - MSE: 9.5222 - val_loss: 135.5047 - val_mean_Difference_in_Count: -11.3000 - val_std_Difference_in_Count: 1.3873 - val_mean_absolute_Difference_in_Count: 11.3000 - val_std_absolute_Difference_in_Count: 1.3873 - val_MSE: 129.9667\n",
            "Epoch 11/100\n",
            "15/15 [==============================] - 130s 9s/step - loss: 7.7474 - mean_Difference_in_Count: -0.5889 - std_Difference_in_Count: 1.5620 - mean_absolute_Difference_in_Count: 1.9000 - std_absolute_Difference_in_Count: 1.1734 - MSE: 5.5000 - val_loss: 110.6879 - val_mean_Difference_in_Count: -10.3000 - val_std_Difference_in_Count: 1.3873 - val_mean_absolute_Difference_in_Count: 10.3000 - val_std_absolute_Difference_in_Count: 1.3873 - val_MSE: 108.3667\n",
            "Epoch 12/100\n",
            "15/15 [==============================] - 133s 9s/step - loss: 6.3200 - mean_Difference_in_Count: -0.2000 - std_Difference_in_Count: 1.3064 - mean_absolute_Difference_in_Count: 1.5556 - std_absolute_Difference_in_Count: 1.0015 - MSE: 3.9556 - val_loss: 155.3034 - val_mean_Difference_in_Count: -12.3000 - val_std_Difference_in_Count: 1.3873 - val_mean_absolute_Difference_in_Count: 12.3000 - val_std_absolute_Difference_in_Count: 1.3873 - val_MSE: 153.5667\n"
          ],
          "name": "stdout"
        }
      ]
    },
    {
      "cell_type": "code",
      "metadata": {
        "id": "k0VWm-HIAeE1",
        "colab_type": "code",
        "outputId": "2c1ce06d-ff2c-4c6f-e712-be9fce7d80b7",
        "colab": {
          "base_uri": "https://localhost:8080/",
          "height": 343
        }
      },
      "source": [
        "fitter_functions(create_Xception_model(),A2_X_train,A2_X_test,A2_Y_train,A2_Y_test,False)"
      ],
      "execution_count": 0,
      "outputs": [
        {
          "output_type": "stream",
          "text": [
            "Epoch 1/100\n",
            "21/21 [==============================] - 181s 9s/step - loss: 28.3450 - mean_Difference_in_Count: -2.1984 - std_Difference_in_Count: 2.6766 - mean_absolute_Difference_in_Count: 4.0079 - std_absolute_Difference_in_Count: 2.0564 - MSE: 24.1349 - val_loss: 324.9576 - val_mean_Difference_in_Count: 17.8571 - val_std_Difference_in_Count: 1.5740 - val_mean_absolute_Difference_in_Count: 17.8571 - val_std_absolute_Difference_in_Count: 1.5740 - val_MSE: 322.3810\n",
            "Epoch 2/100\n",
            "21/21 [==============================] - 184s 9s/step - loss: 19.6454 - mean_Difference_in_Count: -0.8730 - std_Difference_in_Count: 2.9089 - mean_absolute_Difference_in_Count: 3.3492 - std_absolute_Difference_in_Count: 1.9647 - MSE: 16.6349 - val_loss: 87.7896 - val_mean_Difference_in_Count: 9.2381 - val_std_Difference_in_Count: 1.5321 - val_mean_absolute_Difference_in_Count: 9.2381 - val_std_absolute_Difference_in_Count: 1.5321 - val_MSE: 88.8095\n",
            "Epoch 3/100\n",
            "21/21 [==============================] - 182s 9s/step - loss: 11.1834 - mean_Difference_in_Count: -0.3175 - std_Difference_in_Count: 2.3801 - mean_absolute_Difference_in_Count: 2.3651 - std_absolute_Difference_in_Count: 1.4703 - MSE: 8.5873 - val_loss: 16.2529 - val_mean_Difference_in_Count: 3.3810 - val_std_Difference_in_Count: 1.4754 - val_mean_absolute_Difference_in_Count: 3.3810 - val_std_absolute_Difference_in_Count: 1.4754 - val_MSE: 14.5238\n",
            "Epoch 4/100\n",
            "21/21 [==============================] - 182s 9s/step - loss: 11.1579 - mean_Difference_in_Count: -0.6190 - std_Difference_in_Count: 1.8913 - mean_absolute_Difference_in_Count: 2.3333 - std_absolute_Difference_in_Count: 1.4555 - MSE: 8.8889 - val_loss: 5.2170 - val_mean_Difference_in_Count: 0.3810 - val_std_Difference_in_Count: 1.4754 - val_mean_absolute_Difference_in_Count: 1.4286 - val_std_absolute_Difference_in_Count: 1.0263 - val_MSE: 3.2381\n",
            "Epoch 5/100\n",
            "21/21 [==============================] - 183s 9s/step - loss: 6.6108 - mean_Difference_in_Count: -0.1508 - std_Difference_in_Count: 1.8916 - mean_absolute_Difference_in_Count: 1.6905 - std_absolute_Difference_in_Count: 1.2601 - MSE: 4.8651 - val_loss: 40.1198 - val_mean_Difference_in_Count: -5.6190 - val_std_Difference_in_Count: 1.4754 - val_mean_absolute_Difference_in_Count: 5.6190 - val_std_absolute_Difference_in_Count: 1.4754 - val_MSE: 34.6667\n",
            "Epoch 6/100\n",
            "21/21 [==============================] - 182s 9s/step - loss: 5.0403 - mean_Difference_in_Count: -0.1667 - std_Difference_in_Count: 1.5262 - mean_absolute_Difference_in_Count: 1.4365 - std_absolute_Difference_in_Count: 1.0144 - MSE: 3.4524 - val_loss: 40.3916 - val_mean_Difference_in_Count: -5.6190 - val_std_Difference_in_Count: 1.4754 - val_mean_absolute_Difference_in_Count: 5.6190 - val_std_absolute_Difference_in_Count: 1.4754 - val_MSE: 34.6667\n",
            "Epoch 7/100\n",
            "21/21 [==============================] - 182s 9s/step - loss: 4.7994 - mean_Difference_in_Count: -0.0159 - std_Difference_in_Count: 1.5296 - mean_absolute_Difference_in_Count: 1.4127 - std_absolute_Difference_in_Count: 1.0551 - MSE: 3.3651 - val_loss: 41.5245 - val_mean_Difference_in_Count: -5.6190 - val_std_Difference_in_Count: 1.4754 - val_mean_absolute_Difference_in_Count: 5.6190 - val_std_absolute_Difference_in_Count: 1.4754 - val_MSE: 34.6667\n",
            "Epoch 8/100\n",
            "21/21 [==============================] - 182s 9s/step - loss: 3.9928 - mean_Difference_in_Count: -0.1587 - std_Difference_in_Count: 1.1445 - mean_absolute_Difference_in_Count: 1.2381 - std_absolute_Difference_in_Count: 0.9389 - MSE: 2.6190 - val_loss: 44.4272 - val_mean_Difference_in_Count: -6.6190 - val_std_Difference_in_Count: 1.4754 - val_mean_absolute_Difference_in_Count: 6.6190 - val_std_absolute_Difference_in_Count: 1.4754 - val_MSE: 46.9048\n",
            "Epoch 9/100\n",
            "21/21 [==============================] - 186s 9s/step - loss: 3.0404 - mean_Difference_in_Count: -0.0397 - std_Difference_in_Count: 1.0307 - mean_absolute_Difference_in_Count: 1.0079 - std_absolute_Difference_in_Count: 0.7090 - MSE: 1.7698 - val_loss: 41.0936 - val_mean_Difference_in_Count: -5.6190 - val_std_Difference_in_Count: 1.4754 - val_mean_absolute_Difference_in_Count: 5.6190 - val_std_absolute_Difference_in_Count: 1.4754 - val_MSE: 34.6667\n"
          ],
          "name": "stdout"
        }
      ]
    },
    {
      "cell_type": "code",
      "metadata": {
        "id": "4jdkk-wm986N",
        "colab_type": "code",
        "outputId": "e5c43df6-fab5-41b6-bc79-167dcf77dbbc",
        "colab": {
          "base_uri": "https://localhost:8080/",
          "height": 513
        }
      },
      "source": [
        "fitter_functions(create_Xception_model(),A3_X_train,A3_X_test,A3_Y_train,A3_Y_test,False)"
      ],
      "execution_count": 0,
      "outputs": [
        {
          "output_type": "stream",
          "text": [
            "Epoch 1/100\n",
            "8/8 [==============================] - 63s 8s/step - loss: 38.6054 - mean_Difference_in_Count: -5.2187 - std_Difference_in_Count: 1.5744 - mean_absolute_Difference_in_Count: 5.2812 - std_absolute_Difference_in_Count: 1.4874 - MSE: 32.8229 - val_loss: 12.4909 - val_mean_Difference_in_Count: -0.9444 - val_std_Difference_in_Count: 2.7908 - val_mean_absolute_Difference_in_Count: 2.5000 - val_std_absolute_Difference_in_Count: 1.4823 - val_MSE: 9.8333\n",
            "Epoch 2/100\n",
            "8/8 [==============================] - 62s 8s/step - loss: 11.3039 - mean_Difference_in_Count: 0.1250 - std_Difference_in_Count: 1.6548 - mean_absolute_Difference_in_Count: 2.3750 - std_absolute_Difference_in_Count: 1.3705 - MSE: 9.7708 - val_loss: 27.6510 - val_mean_Difference_in_Count: -4.5833 - val_std_Difference_in_Count: 2.3629 - val_mean_absolute_Difference_in_Count: 4.5833 - val_std_absolute_Difference_in_Count: 2.3629 - val_MSE: 28.0833\n",
            "Epoch 3/100\n",
            "8/8 [==============================] - 62s 8s/step - loss: 7.3606 - mean_Difference_in_Count: -1.0208 - std_Difference_in_Count: 1.9017 - mean_absolute_Difference_in_Count: 2.0208 - std_absolute_Difference_in_Count: 1.3932 - MSE: 6.6250 - val_loss: 30.7634 - val_mean_Difference_in_Count: -4.5833 - val_std_Difference_in_Count: 2.4498 - val_mean_absolute_Difference_in_Count: 4.5833 - val_std_absolute_Difference_in_Count: 2.4498 - val_MSE: 28.2500\n",
            "Epoch 4/100\n",
            "8/8 [==============================] - 62s 8s/step - loss: 6.1009 - mean_Difference_in_Count: 0.2083 - std_Difference_in_Count: 1.8664 - mean_absolute_Difference_in_Count: 1.7708 - std_absolute_Difference_in_Count: 1.2256 - MSE: 5.0417 - val_loss: 16.9439 - val_mean_Difference_in_Count: -2.7500 - val_std_Difference_in_Count: 2.2309 - val_mean_absolute_Difference_in_Count: 3.1944 - val_std_absolute_Difference_in_Count: 1.7668 - val_MSE: 14.5833\n",
            "Epoch 5/100\n",
            "8/8 [==============================] - 62s 8s/step - loss: 5.5390 - mean_Difference_in_Count: -0.2188 - std_Difference_in_Count: 1.5616 - mean_absolute_Difference_in_Count: 1.5729 - std_absolute_Difference_in_Count: 1.2380 - MSE: 4.4896 - val_loss: 10.5002 - val_mean_Difference_in_Count: -1.3889 - val_std_Difference_in_Count: 2.3791 - val_mean_absolute_Difference_in_Count: 2.5000 - val_std_absolute_Difference_in_Count: 1.5522 - val_MSE: 9.3333\n",
            "Epoch 6/100\n",
            "8/8 [==============================] - 62s 8s/step - loss: 6.4131 - mean_Difference_in_Count: -0.5833 - std_Difference_in_Count: 1.3088 - mean_absolute_Difference_in_Count: 1.7292 - std_absolute_Difference_in_Count: 1.0884 - MSE: 5.5833 - val_loss: 10.0674 - val_mean_Difference_in_Count: -1.2778 - val_std_Difference_in_Count: 2.4976 - val_mean_absolute_Difference_in_Count: 2.6111 - val_std_absolute_Difference_in_Count: 1.5358 - val_MSE: 9.8889\n",
            "Epoch 7/100\n",
            "8/8 [==============================] - 62s 8s/step - loss: 3.0200 - mean_Difference_in_Count: -0.2708 - std_Difference_in_Count: 1.1785 - mean_absolute_Difference_in_Count: 1.1875 - std_absolute_Difference_in_Count: 0.8913 - MSE: 2.5000 - val_loss: 10.0804 - val_mean_Difference_in_Count: -1.0278 - val_std_Difference_in_Count: 2.4784 - val_mean_absolute_Difference_in_Count: 2.2500 - val_std_absolute_Difference_in_Count: 1.6213 - val_MSE: 8.6944\n",
            "Epoch 8/100\n",
            "8/8 [==============================] - 62s 8s/step - loss: 2.9581 - mean_Difference_in_Count: 0.4062 - std_Difference_in_Count: 1.0541 - mean_absolute_Difference_in_Count: 1.1146 - std_absolute_Difference_in_Count: 0.8348 - MSE: 2.3646 - val_loss: 9.9481 - val_mean_Difference_in_Count: -1.0278 - val_std_Difference_in_Count: 2.4784 - val_mean_absolute_Difference_in_Count: 2.2500 - val_std_absolute_Difference_in_Count: 1.6213 - val_MSE: 8.6944\n",
            "Epoch 9/100\n",
            "8/8 [==============================] - 62s 8s/step - loss: 3.1518 - mean_Difference_in_Count: -0.5625 - std_Difference_in_Count: 0.9871 - mean_absolute_Difference_in_Count: 1.1458 - std_absolute_Difference_in_Count: 0.7993 - MSE: 2.8958 - val_loss: 9.0437 - val_mean_Difference_in_Count: -0.0833 - val_std_Difference_in_Count: 2.4738 - val_mean_absolute_Difference_in_Count: 2.0278 - val_std_absolute_Difference_in_Count: 1.4357 - val_MSE: 7.5833\n",
            "Epoch 10/100\n",
            "8/8 [==============================] - 62s 8s/step - loss: 2.7866 - mean_Difference_in_Count: 0.4167 - std_Difference_in_Count: 0.9880 - mean_absolute_Difference_in_Count: 0.9167 - std_absolute_Difference_in_Count: 0.8125 - MSE: 1.8750 - val_loss: 9.9476 - val_mean_Difference_in_Count: 1.0000 - val_std_Difference_in_Count: 2.4454 - val_mean_absolute_Difference_in_Count: 2.2222 - val_std_absolute_Difference_in_Count: 1.6112 - val_MSE: 8.9444\n",
            "Epoch 11/100\n",
            "8/8 [==============================] - 62s 8s/step - loss: 2.8150 - mean_Difference_in_Count: -0.3646 - std_Difference_in_Count: 1.0740 - mean_absolute_Difference_in_Count: 1.1771 - std_absolute_Difference_in_Count: 0.8863 - MSE: 2.4896 - val_loss: 17.0382 - val_mean_Difference_in_Count: 2.8056 - val_std_Difference_in_Count: 2.5556 - val_mean_absolute_Difference_in_Count: 3.4722 - val_std_absolute_Difference_in_Count: 1.7991 - val_MSE: 16.1944\n",
            "Epoch 12/100\n",
            "8/8 [==============================] - 65s 8s/step - loss: 2.3612 - mean_Difference_in_Count: -0.0208 - std_Difference_in_Count: 0.9297 - mean_absolute_Difference_in_Count: 0.9792 - std_absolute_Difference_in_Count: 0.6992 - MSE: 1.7500 - val_loss: 12.3274 - val_mean_Difference_in_Count: 1.8056 - val_std_Difference_in_Count: 2.5556 - val_mean_absolute_Difference_in_Count: 2.6944 - val_std_absolute_Difference_in_Count: 1.7967 - val_MSE: 11.5833\n",
            "Epoch 13/100\n",
            "8/8 [==============================] - 62s 8s/step - loss: 2.0914 - mean_Difference_in_Count: -0.2917 - std_Difference_in_Count: 0.8523 - mean_absolute_Difference_in_Count: 0.9583 - std_absolute_Difference_in_Count: 0.7468 - MSE: 1.7083 - val_loss: 11.0611 - val_mean_Difference_in_Count: 1.5000 - val_std_Difference_in_Count: 2.4592 - val_mean_absolute_Difference_in_Count: 2.3889 - val_std_absolute_Difference_in_Count: 1.7593 - val_MSE: 9.5000\n",
            "Epoch 14/100\n",
            "8/8 [==============================] - 62s 8s/step - loss: 2.1413 - mean_Difference_in_Count: 0.3542 - std_Difference_in_Count: 0.9271 - mean_absolute_Difference_in_Count: 0.9583 - std_absolute_Difference_in_Count: 0.8014 - MSE: 2.0000 - val_loss: 9.0841 - val_mean_Difference_in_Count: 1.0278 - val_std_Difference_in_Count: 2.2863 - val_mean_absolute_Difference_in_Count: 2.1389 - val_std_absolute_Difference_in_Count: 1.5198 - val_MSE: 8.6944\n"
          ],
          "name": "stdout"
        }
      ]
    },
    {
      "cell_type": "code",
      "metadata": {
        "id": "D3tzpgmPDYTk",
        "colab_type": "code",
        "outputId": "b882faec-f813-45bc-f708-9a296cd17aa3",
        "colab": {
          "base_uri": "https://localhost:8080/",
          "height": 1000
        }
      },
      "source": [
        "fitter_functions(create_Xception_model(),A4_X_train,A4_X_test,A4_Y_train,A4_Y_test,False)"
      ],
      "execution_count": 0,
      "outputs": [
        {
          "output_type": "stream",
          "text": [
            "Epoch 1/100\n",
            "78/78 [==============================] - 14s 181ms/step - loss: 19.0917 - mean_Difference_in_Count: -0.8184 - std_Difference_in_Count: 1.7288 - mean_absolute_Difference_in_Count: 2.5278 - std_absolute_Difference_in_Count: 1.4126 - MSE: 17.0064 - val_loss: 6.7592 - val_mean_Difference_in_Count: -0.3141 - val_std_Difference_in_Count: 2.0306 - val_mean_absolute_Difference_in_Count: 1.7500 - val_std_absolute_Difference_in_Count: 1.3529 - val_MSE: 5.4423\n",
            "Epoch 2/100\n",
            "78/78 [==============================] - 13s 168ms/step - loss: 4.2899 - mean_Difference_in_Count: -0.1218 - std_Difference_in_Count: 1.3533 - mean_absolute_Difference_in_Count: 1.2799 - std_absolute_Difference_in_Count: 1.0159 - MSE: 3.2329 - val_loss: 5.5817 - val_mean_Difference_in_Count: -0.7051 - val_std_Difference_in_Count: 1.7940 - val_mean_absolute_Difference_in_Count: 1.5513 - val_std_absolute_Difference_in_Count: 1.2975 - val_MSE: 4.6923\n",
            "Epoch 3/100\n",
            "78/78 [==============================] - 13s 168ms/step - loss: 3.8325 - mean_Difference_in_Count: -0.0684 - std_Difference_in_Count: 1.2432 - mean_absolute_Difference_in_Count: 1.2607 - std_absolute_Difference_in_Count: 0.9789 - MSE: 2.9444 - val_loss: 4.8119 - val_mean_Difference_in_Count: -0.5128 - val_std_Difference_in_Count: 1.7605 - val_mean_absolute_Difference_in_Count: 1.4872 - val_std_absolute_Difference_in_Count: 1.1895 - val_MSE: 4.1538\n",
            "Epoch 4/100\n",
            "78/78 [==============================] - 13s 166ms/step - loss: 2.8512 - mean_Difference_in_Count: -0.0278 - std_Difference_in_Count: 1.1272 - mean_absolute_Difference_in_Count: 1.1132 - std_absolute_Difference_in_Count: 0.7976 - MSE: 2.2415 - val_loss: 5.3900 - val_mean_Difference_in_Count: 1.1090 - val_std_Difference_in_Count: 1.7569 - val_mean_absolute_Difference_in_Count: 1.6474 - val_std_absolute_Difference_in_Count: 1.3355 - val_MSE: 4.9167\n",
            "Epoch 5/100\n",
            "78/78 [==============================] - 13s 168ms/step - loss: 2.5407 - mean_Difference_in_Count: -0.1239 - std_Difference_in_Count: 1.0316 - mean_absolute_Difference_in_Count: 1.0214 - std_absolute_Difference_in_Count: 0.7917 - MSE: 2.0085 - val_loss: 3.8852 - val_mean_Difference_in_Count: -0.5513 - val_std_Difference_in_Count: 1.5598 - val_mean_absolute_Difference_in_Count: 1.3974 - val_std_absolute_Difference_in_Count: 0.9466 - val_MSE: 3.3205\n",
            "Epoch 6/100\n",
            "78/78 [==============================] - 13s 168ms/step - loss: 2.0297 - mean_Difference_in_Count: -0.0299 - std_Difference_in_Count: 0.9465 - mean_absolute_Difference_in_Count: 0.8761 - std_absolute_Difference_in_Count: 0.7017 - MSE: 1.4915 - val_loss: 3.7826 - val_mean_Difference_in_Count: -0.1346 - val_std_Difference_in_Count: 1.6697 - val_mean_absolute_Difference_in_Count: 1.4038 - val_std_absolute_Difference_in_Count: 0.9917 - val_MSE: 3.4038\n",
            "Epoch 7/100\n",
            "78/78 [==============================] - 13s 166ms/step - loss: 1.9909 - mean_Difference_in_Count: -0.0470 - std_Difference_in_Count: 0.9995 - mean_absolute_Difference_in_Count: 0.9188 - std_absolute_Difference_in_Count: 0.7116 - MSE: 1.5769 - val_loss: 3.7835 - val_mean_Difference_in_Count: -0.0385 - val_std_Difference_in_Count: 1.7013 - val_mean_absolute_Difference_in_Count: 1.4744 - val_std_absolute_Difference_in_Count: 0.9273 - val_MSE: 3.3846\n",
            "Epoch 8/100\n",
            "78/78 [==============================] - 13s 166ms/step - loss: 1.9582 - mean_Difference_in_Count: -0.0192 - std_Difference_in_Count: 0.9597 - mean_absolute_Difference_in_Count: 0.8953 - std_absolute_Difference_in_Count: 0.7270 - MSE: 1.5534 - val_loss: 4.0144 - val_mean_Difference_in_Count: -0.7628 - val_std_Difference_in_Count: 1.6100 - val_mean_absolute_Difference_in_Count: 1.4038 - val_std_absolute_Difference_in_Count: 1.1216 - val_MSE: 3.7372\n",
            "Epoch 9/100\n",
            "78/78 [==============================] - 13s 168ms/step - loss: 2.0474 - mean_Difference_in_Count: -0.1218 - std_Difference_in_Count: 0.8983 - mean_absolute_Difference_in_Count: 0.9252 - std_absolute_Difference_in_Count: 0.7316 - MSE: 1.6987 - val_loss: 3.6157 - val_mean_Difference_in_Count: 0.3590 - val_std_Difference_in_Count: 1.5914 - val_mean_absolute_Difference_in_Count: 1.3333 - val_std_absolute_Difference_in_Count: 1.0368 - val_MSE: 3.2308\n",
            "Epoch 10/100\n",
            "78/78 [==============================] - 13s 166ms/step - loss: 1.8429 - mean_Difference_in_Count: 4.5850e-09 - std_Difference_in_Count: 0.8875 - mean_absolute_Difference_in_Count: 0.8333 - std_absolute_Difference_in_Count: 0.7438 - MSE: 1.4658 - val_loss: 3.9805 - val_mean_Difference_in_Count: 0.6538 - val_std_Difference_in_Count: 1.5707 - val_mean_absolute_Difference_in_Count: 1.4359 - val_std_absolute_Difference_in_Count: 1.0365 - val_MSE: 3.4744\n",
            "Epoch 11/100\n",
            "78/78 [==============================] - 13s 166ms/step - loss: 1.9173 - mean_Difference_in_Count: -0.0470 - std_Difference_in_Count: 0.9113 - mean_absolute_Difference_in_Count: 0.9145 - std_absolute_Difference_in_Count: 0.7265 - MSE: 1.6068 - val_loss: 6.7420 - val_mean_Difference_in_Count: -1.5064 - val_std_Difference_in_Count: 1.7742 - val_mean_absolute_Difference_in_Count: 1.9167 - val_std_absolute_Difference_in_Count: 1.4104 - val_MSE: 6.5962\n",
            "Epoch 12/100\n",
            "78/78 [==============================] - 13s 166ms/step - loss: 1.5468 - mean_Difference_in_Count: -0.0705 - std_Difference_in_Count: 0.8888 - mean_absolute_Difference_in_Count: 0.7927 - std_absolute_Difference_in_Count: 0.6929 - MSE: 1.2970 - val_loss: 3.8660 - val_mean_Difference_in_Count: 0.6346 - val_std_Difference_in_Count: 1.6547 - val_mean_absolute_Difference_in_Count: 1.4936 - val_std_absolute_Difference_in_Count: 1.0406 - val_MSE: 3.6603\n",
            "Epoch 13/100\n",
            "78/78 [==============================] - 13s 166ms/step - loss: 1.3942 - mean_Difference_in_Count: -0.0192 - std_Difference_in_Count: 0.8050 - mean_absolute_Difference_in_Count: 0.7500 - std_absolute_Difference_in_Count: 0.6258 - MSE: 1.0919 - val_loss: 3.6833 - val_mean_Difference_in_Count: 0.1731 - val_std_Difference_in_Count: 1.6801 - val_mean_absolute_Difference_in_Count: 1.4423 - val_std_absolute_Difference_in_Count: 0.9861 - val_MSE: 3.3782\n",
            "Epoch 14/100\n",
            "78/78 [==============================] - 13s 167ms/step - loss: 1.4311 - mean_Difference_in_Count: -0.0192 - std_Difference_in_Count: 0.8549 - mean_absolute_Difference_in_Count: 0.7799 - std_absolute_Difference_in_Count: 0.6490 - MSE: 1.2158 - val_loss: 3.6766 - val_mean_Difference_in_Count: -0.4103 - val_std_Difference_in_Count: 1.6140 - val_mean_absolute_Difference_in_Count: 1.3590 - val_std_absolute_Difference_in_Count: 1.0367 - val_MSE: 3.3846\n"
          ],
          "name": "stdout"
        }
      ]
    },
    {
      "cell_type": "code",
      "metadata": {
        "id": "uya7ZcgzDklk",
        "colab_type": "code",
        "outputId": "9c9d922c-bae9-403c-97f1-2a88db06f312",
        "colab": {
          "base_uri": "https://localhost:8080/",
          "height": 1000
        }
      },
      "source": [
        "fitter_functions(create_Xception_model(),Ac_X_train,Ac_X_test,Ac_Y_train,Ac_Y_test,False)"
      ],
      "execution_count": 0,
      "outputs": [
        {
          "output_type": "stream",
          "text": [
            "Epoch 1/100\n",
            "122/122 [==============================] - 22s 180ms/step - loss: 14.5308 - mean_Difference_in_Count: -0.5041 - std_Difference_in_Count: 1.8059 - mean_absolute_Difference_in_Count: 2.2828 - std_absolute_Difference_in_Count: 1.4393 - MSE: 12.9249 - val_loss: 5.4476 - val_mean_Difference_in_Count: 0.5549 - val_std_Difference_in_Count: 1.7392 - val_mean_absolute_Difference_in_Count: 1.6240 - val_std_absolute_Difference_in_Count: 1.1027 - val_MSE: 4.3760\n",
            "Epoch 2/100\n",
            "122/122 [==============================] - 20s 167ms/step - loss: 3.7760 - mean_Difference_in_Count: -0.0683 - std_Difference_in_Count: 1.3013 - mean_absolute_Difference_in_Count: 1.3033 - std_absolute_Difference_in_Count: 0.9580 - MSE: 3.0464 - val_loss: 7.1514 - val_mean_Difference_in_Count: -1.4390 - val_std_Difference_in_Count: 1.7132 - val_mean_absolute_Difference_in_Count: 1.9390 - val_std_absolute_Difference_in_Count: 1.3071 - val_MSE: 6.2358\n",
            "Epoch 3/100\n",
            "122/122 [==============================] - 20s 167ms/step - loss: 2.8299 - mean_Difference_in_Count: -0.0396 - std_Difference_in_Count: 1.2439 - mean_absolute_Difference_in_Count: 1.1434 - std_absolute_Difference_in_Count: 0.8516 - MSE: 2.2746 - val_loss: 6.4593 - val_mean_Difference_in_Count: -0.9634 - val_std_Difference_in_Count: 1.7847 - val_mean_absolute_Difference_in_Count: 1.8252 - val_std_absolute_Difference_in_Count: 1.3689 - val_MSE: 5.8293\n",
            "Epoch 4/100\n",
            "122/122 [==============================] - 21s 169ms/step - loss: 2.3651 - mean_Difference_in_Count: -0.0505 - std_Difference_in_Count: 1.0664 - mean_absolute_Difference_in_Count: 1.0041 - std_absolute_Difference_in_Count: 0.7988 - MSE: 1.8757 - val_loss: 4.8541 - val_mean_Difference_in_Count: -0.2642 - val_std_Difference_in_Count: 1.7831 - val_mean_absolute_Difference_in_Count: 1.6057 - val_std_absolute_Difference_in_Count: 1.1231 - val_MSE: 4.4878\n",
            "Epoch 5/100\n",
            "122/122 [==============================] - 21s 169ms/step - loss: 2.1509 - mean_Difference_in_Count: -0.0861 - std_Difference_in_Count: 1.0332 - mean_absolute_Difference_in_Count: 0.9631 - std_absolute_Difference_in_Count: 0.7534 - MSE: 1.7719 - val_loss: 4.5749 - val_mean_Difference_in_Count: 0.1951 - val_std_Difference_in_Count: 1.7304 - val_mean_absolute_Difference_in_Count: 1.5813 - val_std_absolute_Difference_in_Count: 1.0743 - val_MSE: 4.1545\n",
            "Epoch 6/100\n",
            "122/122 [==============================] - 21s 168ms/step - loss: 2.0332 - mean_Difference_in_Count: -0.0109 - std_Difference_in_Count: 1.0084 - mean_absolute_Difference_in_Count: 0.9372 - std_absolute_Difference_in_Count: 0.7767 - MSE: 1.7322 - val_loss: 4.4015 - val_mean_Difference_in_Count: -0.4248 - val_std_Difference_in_Count: 1.6855 - val_mean_absolute_Difference_in_Count: 1.5386 - val_std_absolute_Difference_in_Count: 1.0217 - val_MSE: 4.1159\n",
            "Epoch 7/100\n",
            "122/122 [==============================] - 21s 168ms/step - loss: 1.9745 - mean_Difference_in_Count: -0.0587 - std_Difference_in_Count: 0.9766 - mean_absolute_Difference_in_Count: 0.9358 - std_absolute_Difference_in_Count: 0.7460 - MSE: 1.7117 - val_loss: 4.1935 - val_mean_Difference_in_Count: -0.1199 - val_std_Difference_in_Count: 1.6712 - val_mean_absolute_Difference_in_Count: 1.5061 - val_std_absolute_Difference_in_Count: 1.0319 - val_MSE: 3.8760\n",
            "Epoch 8/100\n",
            "122/122 [==============================] - 20s 168ms/step - loss: 2.0374 - mean_Difference_in_Count: -0.0628 - std_Difference_in_Count: 0.9858 - mean_absolute_Difference_in_Count: 0.9617 - std_absolute_Difference_in_Count: 0.7450 - MSE: 1.7760 - val_loss: 5.9411 - val_mean_Difference_in_Count: 1.0285 - val_std_Difference_in_Count: 1.8354 - val_mean_absolute_Difference_in_Count: 1.8455 - val_std_absolute_Difference_in_Count: 1.2941 - val_MSE: 5.7276\n",
            "Epoch 9/100\n",
            "122/122 [==============================] - 20s 167ms/step - loss: 1.9707 - mean_Difference_in_Count: -0.0601 - std_Difference_in_Count: 0.9898 - mean_absolute_Difference_in_Count: 0.9290 - std_absolute_Difference_in_Count: 0.7773 - MSE: 1.7705 - val_loss: 4.2782 - val_mean_Difference_in_Count: 0.2663 - val_std_Difference_in_Count: 1.6651 - val_mean_absolute_Difference_in_Count: 1.5467 - val_std_absolute_Difference_in_Count: 1.0159 - val_MSE: 3.9736\n",
            "Epoch 10/100\n",
            "122/122 [==============================] - 20s 168ms/step - loss: 1.5828 - mean_Difference_in_Count: -0.0260 - std_Difference_in_Count: 0.9161 - mean_absolute_Difference_in_Count: 0.7992 - std_absolute_Difference_in_Count: 0.7027 - MSE: 1.3675 - val_loss: 5.1414 - val_mean_Difference_in_Count: 0.8963 - val_std_Difference_in_Count: 1.7389 - val_mean_absolute_Difference_in_Count: 1.7419 - val_std_absolute_Difference_in_Count: 1.1675 - val_MSE: 4.9654\n",
            "Epoch 11/100\n",
            "122/122 [==============================] - 20s 168ms/step - loss: 1.3621 - mean_Difference_in_Count: -0.0096 - std_Difference_in_Count: 0.8359 - mean_absolute_Difference_in_Count: 0.7445 - std_absolute_Difference_in_Count: 0.6601 - MSE: 1.1598 - val_loss: 4.2944 - val_mean_Difference_in_Count: 0.0894 - val_std_Difference_in_Count: 1.6847 - val_mean_absolute_Difference_in_Count: 1.5325 - val_std_absolute_Difference_in_Count: 1.0459 - val_MSE: 4.0447\n",
            "Epoch 12/100\n",
            "122/122 [==============================] - 20s 168ms/step - loss: 1.4686 - mean_Difference_in_Count: -0.0137 - std_Difference_in_Count: 0.8895 - mean_absolute_Difference_in_Count: 0.7705 - std_absolute_Difference_in_Count: 0.6938 - MSE: 1.2705 - val_loss: 4.1990 - val_mean_Difference_in_Count: -0.0325 - val_std_Difference_in_Count: 1.7054 - val_mean_absolute_Difference_in_Count: 1.5285 - val_std_absolute_Difference_in_Count: 1.0922 - val_MSE: 4.0854\n"
          ],
          "name": "stdout"
        }
      ]
    },
    {
      "cell_type": "code",
      "metadata": {
        "id": "4QGOp14sDLCw",
        "colab_type": "code",
        "outputId": "41d6ae89-f614-4c4d-bba7-276e50b6d1eb",
        "colab": {
          "base_uri": "https://localhost:8080/",
          "height": 1000
        }
      },
      "source": [
        "fitter_functions(create_Xception_model(),Ac_X_train,A1_X_test,Ac_Y_train,A1_Y_test,False)"
      ],
      "execution_count": 0,
      "outputs": [
        {
          "output_type": "stream",
          "text": [
            "Epoch 1/100\n",
            "122/122 [==============================] - 20s 167ms/step - loss: 13.2440 - mean_Difference_in_Count: -0.4932 - std_Difference_in_Count: 1.5945 - mean_absolute_Difference_in_Count: 2.1626 - std_absolute_Difference_in_Count: 1.2925 - MSE: 11.5861 - val_loss: 6.9636 - val_mean_Difference_in_Count: -1.9333 - val_std_Difference_in_Count: 1.3078 - val_mean_absolute_Difference_in_Count: 1.9333 - val_std_absolute_Difference_in_Count: 1.3078 - val_MSE: 5.9333\n",
            "Epoch 2/100\n",
            "122/122 [==============================] - 19s 158ms/step - loss: 3.0264 - mean_Difference_in_Count: -0.0478 - std_Difference_in_Count: 1.2014 - mean_absolute_Difference_in_Count: 1.0615 - std_absolute_Difference_in_Count: 0.8530 - MSE: 2.1762 - val_loss: 6.6516 - val_mean_Difference_in_Count: -2.0000 - val_std_Difference_in_Count: 1.1968 - val_mean_absolute_Difference_in_Count: 2.0000 - val_std_absolute_Difference_in_Count: 1.1968 - val_MSE: 5.8000\n",
            "Epoch 3/100\n",
            "122/122 [==============================] - 19s 159ms/step - loss: 2.8502 - mean_Difference_in_Count: -0.0533 - std_Difference_in_Count: 1.1488 - mean_absolute_Difference_in_Count: 1.1216 - std_absolute_Difference_in_Count: 0.8198 - MSE: 2.2609 - val_loss: 3.6358 - val_mean_Difference_in_Count: 0.7333 - val_std_Difference_in_Count: 1.5128 - val_mean_absolute_Difference_in_Count: 1.4667 - val_std_absolute_Difference_in_Count: 0.9736 - val_MSE: 3.2667\n",
            "Epoch 4/100\n",
            "122/122 [==============================] - 19s 157ms/step - loss: 2.3222 - mean_Difference_in_Count: -0.0751 - std_Difference_in_Count: 1.0708 - mean_absolute_Difference_in_Count: 0.9986 - std_absolute_Difference_in_Count: 0.7773 - MSE: 1.8347 - val_loss: 4.3907 - val_mean_Difference_in_Count: -1.1667 - val_std_Difference_in_Count: 1.4221 - val_mean_absolute_Difference_in_Count: 1.3667 - val_std_absolute_Difference_in_Count: 1.2260 - val_MSE: 3.7667\n",
            "Epoch 5/100\n",
            "122/122 [==============================] - 19s 158ms/step - loss: 1.8501 - mean_Difference_in_Count: -0.0055 - std_Difference_in_Count: 0.9738 - mean_absolute_Difference_in_Count: 0.8470 - std_absolute_Difference_in_Count: 0.7287 - MSE: 1.4372 - val_loss: 3.7298 - val_mean_Difference_in_Count: -1.0000 - val_std_Difference_in_Count: 1.4157 - val_mean_absolute_Difference_in_Count: 1.3333 - val_std_absolute_Difference_in_Count: 1.1681 - val_MSE: 3.3333\n",
            "Epoch 6/100\n",
            "122/122 [==============================] - 19s 158ms/step - loss: 2.0078 - mean_Difference_in_Count: -0.1011 - std_Difference_in_Count: 0.9341 - mean_absolute_Difference_in_Count: 0.9372 - std_absolute_Difference_in_Count: 0.7098 - MSE: 1.6831 - val_loss: 3.8893 - val_mean_Difference_in_Count: 0.7000 - val_std_Difference_in_Count: 1.6566 - val_mean_absolute_Difference_in_Count: 1.5667 - val_std_absolute_Difference_in_Count: 0.9443 - val_MSE: 3.5667\n",
            "Epoch 7/100\n",
            "122/122 [==============================] - 19s 159ms/step - loss: 1.8071 - mean_Difference_in_Count: 0.0068 - std_Difference_in_Count: 0.8965 - mean_absolute_Difference_in_Count: 0.8730 - std_absolute_Difference_in_Count: 0.6813 - MSE: 1.4495 - val_loss: 2.4734 - val_mean_Difference_in_Count: -0.0333 - val_std_Difference_in_Count: 1.3496 - val_mean_absolute_Difference_in_Count: 1.1667 - val_std_absolute_Difference_in_Count: 0.7813 - val_MSE: 2.2333\n",
            "Epoch 8/100\n",
            "122/122 [==============================] - 19s 158ms/step - loss: 1.6112 - mean_Difference_in_Count: -0.0601 - std_Difference_in_Count: 0.9148 - mean_absolute_Difference_in_Count: 0.8306 - std_absolute_Difference_in_Count: 0.6887 - MSE: 1.3716 - val_loss: 3.3026 - val_mean_Difference_in_Count: -0.8667 - val_std_Difference_in_Count: 1.2239 - val_mean_absolute_Difference_in_Count: 1.1333 - val_std_absolute_Difference_in_Count: 1.0772 - val_MSE: 2.6000\n",
            "Epoch 9/100\n",
            "122/122 [==============================] - 19s 157ms/step - loss: 1.5071 - mean_Difference_in_Count: -0.0765 - std_Difference_in_Count: 0.8854 - mean_absolute_Difference_in_Count: 0.8251 - std_absolute_Difference_in_Count: 0.6554 - MSE: 1.2978 - val_loss: 3.2380 - val_mean_Difference_in_Count: -0.2667 - val_std_Difference_in_Count: 1.5929 - val_mean_absolute_Difference_in_Count: 1.2667 - val_std_absolute_Difference_in_Count: 1.0385 - val_MSE: 2.8667\n",
            "Epoch 10/100\n",
            "122/122 [==============================] - 19s 158ms/step - loss: 1.8429 - mean_Difference_in_Count: -0.0833 - std_Difference_in_Count: 0.9001 - mean_absolute_Difference_in_Count: 0.8948 - std_absolute_Difference_in_Count: 0.7220 - MSE: 1.6653 - val_loss: 3.5990 - val_mean_Difference_in_Count: 0.8000 - val_std_Difference_in_Count: 1.5641 - val_mean_absolute_Difference_in_Count: 1.5333 - val_std_absolute_Difference_in_Count: 0.9490 - val_MSE: 3.4667\n",
            "Epoch 11/100\n",
            "122/122 [==============================] - 19s 157ms/step - loss: 1.5305 - mean_Difference_in_Count: -0.0164 - std_Difference_in_Count: 0.9170 - mean_absolute_Difference_in_Count: 0.7978 - std_absolute_Difference_in_Count: 0.6851 - MSE: 1.3142 - val_loss: 4.3849 - val_mean_Difference_in_Count: -1.2000 - val_std_Difference_in_Count: 1.5830 - val_mean_absolute_Difference_in_Count: 1.5333 - val_std_absolute_Difference_in_Count: 1.2811 - val_MSE: 4.2000\n",
            "Epoch 12/100\n",
            "122/122 [==============================] - 19s 158ms/step - loss: 1.4404 - mean_Difference_in_Count: -0.0383 - std_Difference_in_Count: 0.8584 - mean_absolute_Difference_in_Count: 0.7978 - std_absolute_Difference_in_Count: 0.6751 - MSE: 1.2814 - val_loss: 2.3978 - val_mean_Difference_in_Count: -0.2667 - val_std_Difference_in_Count: 1.2720 - val_mean_absolute_Difference_in_Count: 1.0667 - val_std_absolute_Difference_in_Count: 0.8747 - val_MSE: 2.0667\n"
          ],
          "name": "stdout"
        }
      ]
    },
    {
      "cell_type": "code",
      "metadata": {
        "id": "c70nLJ6gDLOX",
        "colab_type": "code",
        "outputId": "135e4dcc-4749-4494-d3fa-486e14ba7c75",
        "colab": {
          "base_uri": "https://localhost:8080/",
          "height": 1000
        }
      },
      "source": [
        "fitter_functions(create_Xception_model(),Ac_X_train,A2_X_test,Ac_Y_train,A2_Y_test,False)"
      ],
      "execution_count": 0,
      "outputs": [
        {
          "output_type": "stream",
          "text": [
            "Epoch 1/100\n",
            "122/122 [==============================] - 20s 168ms/step - loss: 11.5341 - mean_Difference_in_Count: -0.5232 - std_Difference_in_Count: 1.1270 - mean_absolute_Difference_in_Count: 1.8511 - std_absolute_Difference_in_Count: 0.9820 - MSE: 9.8593 - val_loss: 5.4273 - val_mean_Difference_in_Count: -0.0952 - val_std_Difference_in_Count: 1.7127 - val_mean_absolute_Difference_in_Count: 1.6667 - val_std_absolute_Difference_in_Count: 1.0852 - val_MSE: 4.6190\n",
            "Epoch 2/100\n",
            "122/122 [==============================] - 19s 158ms/step - loss: 2.3080 - mean_Difference_in_Count: -0.0355 - std_Difference_in_Count: 0.9240 - mean_absolute_Difference_in_Count: 0.8443 - std_absolute_Difference_in_Count: 0.7362 - MSE: 1.5000 - val_loss: 5.0437 - val_mean_Difference_in_Count: -0.3810 - val_std_Difference_in_Count: 1.5959 - val_mean_absolute_Difference_in_Count: 1.6190 - val_std_absolute_Difference_in_Count: 1.0091 - val_MSE: 4.1905\n",
            "Epoch 3/100\n",
            "122/122 [==============================] - 19s 157ms/step - loss: 1.7307 - mean_Difference_in_Count: -0.0546 - std_Difference_in_Count: 0.8086 - mean_absolute_Difference_in_Count: 0.7377 - std_absolute_Difference_in_Count: 0.6490 - MSE: 1.1585 - val_loss: 4.7270 - val_mean_Difference_in_Count: 0.6190 - val_std_Difference_in_Count: 1.5994 - val_mean_absolute_Difference_in_Count: 1.6190 - val_std_absolute_Difference_in_Count: 1.2446 - val_MSE: 4.4286\n",
            "Epoch 4/100\n",
            "122/122 [==============================] - 19s 156ms/step - loss: 1.5865 - mean_Difference_in_Count: -0.0751 - std_Difference_in_Count: 0.8156 - mean_absolute_Difference_in_Count: 0.7063 - std_absolute_Difference_in_Count: 0.6676 - MSE: 1.1844 - val_loss: 4.7068 - val_mean_Difference_in_Count: 0.5714 - val_std_Difference_in_Count: 1.6701 - val_mean_absolute_Difference_in_Count: 1.7143 - val_std_absolute_Difference_in_Count: 1.1894 - val_MSE: 4.7143\n",
            "Epoch 5/100\n",
            "122/122 [==============================] - 19s 157ms/step - loss: 1.6279 - mean_Difference_in_Count: -0.0492 - std_Difference_in_Count: 0.8244 - mean_absolute_Difference_in_Count: 0.7787 - std_absolute_Difference_in_Count: 0.6868 - MSE: 1.2705 - val_loss: 4.4807 - val_mean_Difference_in_Count: 0.1667 - val_std_Difference_in_Count: 1.5203 - val_mean_absolute_Difference_in_Count: 1.5000 - val_std_absolute_Difference_in_Count: 1.0886 - val_MSE: 3.8333\n",
            "Epoch 6/100\n",
            "122/122 [==============================] - 19s 156ms/step - loss: 1.3529 - mean_Difference_in_Count: -0.0232 - std_Difference_in_Count: 0.8355 - mean_absolute_Difference_in_Count: 0.7391 - std_absolute_Difference_in_Count: 0.6243 - MSE: 1.1161 - val_loss: 5.0778 - val_mean_Difference_in_Count: 0.8095 - val_std_Difference_in_Count: 1.6854 - val_mean_absolute_Difference_in_Count: 1.7619 - val_std_absolute_Difference_in_Count: 1.2734 - val_MSE: 5.0000\n",
            "Epoch 7/100\n",
            "122/122 [==============================] - 19s 156ms/step - loss: 1.3435 - mean_Difference_in_Count: -0.0301 - std_Difference_in_Count: 0.7797 - mean_absolute_Difference_in_Count: 0.6995 - std_absolute_Difference_in_Count: 0.6208 - MSE: 1.0765 - val_loss: 4.3927 - val_mean_Difference_in_Count: -0.1190 - val_std_Difference_in_Count: 1.7038 - val_mean_absolute_Difference_in_Count: 1.6429 - val_std_absolute_Difference_in_Count: 1.1086 - val_MSE: 4.5000\n",
            "Epoch 8/100\n",
            "122/122 [==============================] - 19s 156ms/step - loss: 1.1199 - mean_Difference_in_Count: -0.0164 - std_Difference_in_Count: 0.7477 - mean_absolute_Difference_in_Count: 0.6284 - std_absolute_Difference_in_Count: 0.6163 - MSE: 0.9153 - val_loss: 4.5307 - val_mean_Difference_in_Count: -0.3333 - val_std_Difference_in_Count: 1.6646 - val_mean_absolute_Difference_in_Count: 1.6667 - val_std_absolute_Difference_in_Count: 1.0083 - val_MSE: 4.3810\n",
            "Epoch 9/100\n",
            "122/122 [==============================] - 19s 156ms/step - loss: 1.1978 - mean_Difference_in_Count: -0.0260 - std_Difference_in_Count: 0.7474 - mean_absolute_Difference_in_Count: 0.6762 - std_absolute_Difference_in_Count: 0.6295 - MSE: 1.0342 - val_loss: 4.4869 - val_mean_Difference_in_Count: 0.2381 - val_std_Difference_in_Count: 1.6571 - val_mean_absolute_Difference_in_Count: 1.6190 - val_std_absolute_Difference_in_Count: 1.1415 - val_MSE: 4.1429\n",
            "Epoch 10/100\n",
            "122/122 [==============================] - 19s 158ms/step - loss: 1.0844 - mean_Difference_in_Count: -0.0314 - std_Difference_in_Count: 0.7577 - mean_absolute_Difference_in_Count: 0.6270 - std_absolute_Difference_in_Count: 0.5966 - MSE: 0.8811 - val_loss: 4.1475 - val_mean_Difference_in_Count: 0.2619 - val_std_Difference_in_Count: 1.6553 - val_mean_absolute_Difference_in_Count: 1.5952 - val_std_absolute_Difference_in_Count: 1.1281 - val_MSE: 4.0714\n",
            "Epoch 11/100\n",
            "122/122 [==============================] - 19s 156ms/step - loss: 1.2004 - mean_Difference_in_Count: -0.0533 - std_Difference_in_Count: 0.7641 - mean_absolute_Difference_in_Count: 0.6598 - std_absolute_Difference_in_Count: 0.6405 - MSE: 1.0287 - val_loss: 4.5594 - val_mean_Difference_in_Count: 0.5238 - val_std_Difference_in_Count: 1.6218 - val_mean_absolute_Difference_in_Count: 1.6190 - val_std_absolute_Difference_in_Count: 1.1911 - val_MSE: 4.4762\n",
            "Epoch 12/100\n",
            "122/122 [==============================] - 19s 157ms/step - loss: 1.3621 - mean_Difference_in_Count: -0.0546 - std_Difference_in_Count: 0.7581 - mean_absolute_Difference_in_Count: 0.7514 - std_absolute_Difference_in_Count: 0.6449 - MSE: 1.2049 - val_loss: 4.3012 - val_mean_Difference_in_Count: 0.6429 - val_std_Difference_in_Count: 1.5948 - val_mean_absolute_Difference_in_Count: 1.5952 - val_std_absolute_Difference_in_Count: 1.2838 - val_MSE: 4.3571\n",
            "Epoch 13/100\n",
            "122/122 [==============================] - 19s 157ms/step - loss: 1.1519 - mean_Difference_in_Count: -0.0383 - std_Difference_in_Count: 0.7342 - mean_absolute_Difference_in_Count: 0.6393 - std_absolute_Difference_in_Count: 0.6017 - MSE: 0.9754 - val_loss: 4.1416 - val_mean_Difference_in_Count: 0.3810 - val_std_Difference_in_Count: 1.5346 - val_mean_absolute_Difference_in_Count: 1.4762 - val_std_absolute_Difference_in_Count: 1.1178 - val_MSE: 3.6190\n",
            "Epoch 14/100\n",
            "122/122 [==============================] - 19s 156ms/step - loss: 1.2506 - mean_Difference_in_Count: -0.0246 - std_Difference_in_Count: 0.7496 - mean_absolute_Difference_in_Count: 0.6995 - std_absolute_Difference_in_Count: 0.6243 - MSE: 1.1066 - val_loss: 4.1468 - val_mean_Difference_in_Count: 0.0714 - val_std_Difference_in_Count: 1.6115 - val_mean_absolute_Difference_in_Count: 1.5952 - val_std_absolute_Difference_in_Count: 1.0938 - val_MSE: 4.1190\n",
            "Epoch 15/100\n",
            "122/122 [==============================] - 19s 157ms/step - loss: 1.0264 - mean_Difference_in_Count: -0.0396 - std_Difference_in_Count: 0.7325 - mean_absolute_Difference_in_Count: 0.6243 - std_absolute_Difference_in_Count: 0.5786 - MSE: 0.8593 - val_loss: 4.7707 - val_mean_Difference_in_Count: -0.8810 - val_std_Difference_in_Count: 1.6032 - val_mean_absolute_Difference_in_Count: 1.7381 - val_std_absolute_Difference_in_Count: 0.9278 - val_MSE: 4.5000\n"
          ],
          "name": "stdout"
        }
      ]
    },
    {
      "cell_type": "code",
      "metadata": {
        "id": "y7UOMcA-DLbN",
        "colab_type": "code",
        "outputId": "bd600363-dd94-4866-8ad0-2839693790f5",
        "colab": {
          "base_uri": "https://localhost:8080/",
          "height": 1000
        }
      },
      "source": [
        "fitter_functions(create_Xception_model(),Ac_X_train,A3_X_test,Ac_Y_train,A3_Y_test,False)"
      ],
      "execution_count": 0,
      "outputs": [
        {
          "output_type": "stream",
          "text": [
            "Epoch 1/100\n",
            "122/122 [==============================] - 20s 166ms/step - loss: 12.0710 - mean_Difference_in_Count: -0.5656 - std_Difference_in_Count: 1.1978 - mean_absolute_Difference_in_Count: 1.7650 - std_absolute_Difference_in_Count: 0.9771 - MSE: 10.4180 - val_loss: 9.5314 - val_mean_Difference_in_Count: 0.4167 - val_std_Difference_in_Count: 2.4498 - val_mean_absolute_Difference_in_Count: 1.9167 - val_std_absolute_Difference_in_Count: 1.6037 - val_MSE: 7.4167\n",
            "Epoch 2/100\n",
            "122/122 [==============================] - 19s 158ms/step - loss: 2.5193 - mean_Difference_in_Count: 0.0246 - std_Difference_in_Count: 0.9834 - mean_absolute_Difference_in_Count: 0.9481 - std_absolute_Difference_in_Count: 0.7856 - MSE: 2.0082 - val_loss: 8.6414 - val_mean_Difference_in_Count: -0.0556 - val_std_Difference_in_Count: 2.2848 - val_mean_absolute_Difference_in_Count: 1.7778 - val_std_absolute_Difference_in_Count: 1.4422 - val_MSE: 7.0000\n",
            "Epoch 3/100\n",
            "122/122 [==============================] - 19s 157ms/step - loss: 2.3610 - mean_Difference_in_Count: -0.1407 - std_Difference_in_Count: 1.0667 - mean_absolute_Difference_in_Count: 0.9850 - std_absolute_Difference_in_Count: 0.8104 - MSE: 1.8730 - val_loss: 8.8489 - val_mean_Difference_in_Count: 0.4167 - val_std_Difference_in_Count: 2.4498 - val_mean_absolute_Difference_in_Count: 1.9167 - val_std_absolute_Difference_in_Count: 1.6037 - val_MSE: 7.4167\n",
            "Epoch 4/100\n",
            "122/122 [==============================] - 19s 157ms/step - loss: 2.3907 - mean_Difference_in_Count: -0.0205 - std_Difference_in_Count: 0.9796 - mean_absolute_Difference_in_Count: 1.0178 - std_absolute_Difference_in_Count: 0.7795 - MSE: 2.0014 - val_loss: 8.6949 - val_mean_Difference_in_Count: -0.6667 - val_std_Difference_in_Count: 2.3222 - val_mean_absolute_Difference_in_Count: 2.0000 - val_std_absolute_Difference_in_Count: 1.5316 - val_MSE: 7.5000\n",
            "Epoch 5/100\n",
            "122/122 [==============================] - 19s 157ms/step - loss: 1.6465 - mean_Difference_in_Count: -0.0369 - std_Difference_in_Count: 0.8876 - mean_absolute_Difference_in_Count: 0.8183 - std_absolute_Difference_in_Count: 0.6986 - MSE: 1.3292 - val_loss: 9.6773 - val_mean_Difference_in_Count: -0.5278 - val_std_Difference_in_Count: 2.5118 - val_mean_absolute_Difference_in_Count: 2.1389 - val_std_absolute_Difference_in_Count: 1.4529 - val_MSE: 7.9722\n",
            "Epoch 6/100\n",
            "122/122 [==============================] - 19s 157ms/step - loss: 1.6892 - mean_Difference_in_Count: -0.0178 - std_Difference_in_Count: 0.8729 - mean_absolute_Difference_in_Count: 0.8183 - std_absolute_Difference_in_Count: 0.6781 - MSE: 1.3866 - val_loss: 9.5902 - val_mean_Difference_in_Count: -0.5000 - val_std_Difference_in_Count: 2.4592 - val_mean_absolute_Difference_in_Count: 2.0000 - val_std_absolute_Difference_in_Count: 1.5316 - val_MSE: 7.5000\n",
            "Epoch 7/100\n",
            "122/122 [==============================] - 19s 158ms/step - loss: 1.5821 - mean_Difference_in_Count: -0.0738 - std_Difference_in_Count: 0.8191 - mean_absolute_Difference_in_Count: 0.8142 - std_absolute_Difference_in_Count: 0.6573 - MSE: 1.3525 - val_loss: 9.3304 - val_mean_Difference_in_Count: -0.4444 - val_std_Difference_in_Count: 2.5212 - val_mean_absolute_Difference_in_Count: 2.0556 - val_std_absolute_Difference_in_Count: 1.5443 - val_MSE: 7.8889\n"
          ],
          "name": "stdout"
        }
      ]
    },
    {
      "cell_type": "code",
      "metadata": {
        "id": "tK7kmlmPDLlf",
        "colab_type": "code",
        "outputId": "3485fcca-8b3b-4ff3-e1fe-df333be1d20b",
        "colab": {
          "base_uri": "https://localhost:8080/",
          "height": 1000
        }
      },
      "source": [
        "fitter_functions(create_Xception_model(),Ac_X_train,A4_X_test,Ac_Y_train,A4_Y_test,False)"
      ],
      "execution_count": 0,
      "outputs": [
        {
          "output_type": "stream",
          "text": [
            "Epoch 1/100\n",
            "122/122 [==============================] - 21s 172ms/step - loss: 14.6749 - mean_Difference_in_Count: -0.5833 - std_Difference_in_Count: 1.3408 - mean_absolute_Difference_in_Count: 1.9631 - std_absolute_Difference_in_Count: 1.0843 - MSE: 12.8320 - val_loss: 5.2283 - val_mean_Difference_in_Count: -0.9038 - val_std_Difference_in_Count: 1.5794 - val_mean_absolute_Difference_in_Count: 1.4679 - val_std_absolute_Difference_in_Count: 1.1653 - val_MSE: 4.0962\n",
            "Epoch 2/100\n",
            "122/122 [==============================] - 20s 165ms/step - loss: 2.5594 - mean_Difference_in_Count: -0.0383 - std_Difference_in_Count: 1.0186 - mean_absolute_Difference_in_Count: 0.9016 - std_absolute_Difference_in_Count: 0.7814 - MSE: 1.6940 - val_loss: 4.1488 - val_mean_Difference_in_Count: -0.3013 - val_std_Difference_in_Count: 1.6755 - val_mean_absolute_Difference_in_Count: 1.4423 - val_std_absolute_Difference_in_Count: 1.0303 - val_MSE: 3.5064\n",
            "Epoch 3/100\n",
            "122/122 [==============================] - 20s 164ms/step - loss: 2.3892 - mean_Difference_in_Count: -0.0260 - std_Difference_in_Count: 0.9899 - mean_absolute_Difference_in_Count: 0.9631 - std_absolute_Difference_in_Count: 0.7602 - MSE: 1.7637 - val_loss: 4.5359 - val_mean_Difference_in_Count: -0.5000 - val_std_Difference_in_Count: 1.7033 - val_mean_absolute_Difference_in_Count: 1.4615 - val_std_absolute_Difference_in_Count: 1.2000 - val_MSE: 4.1538\n",
            "Epoch 4/100\n",
            "122/122 [==============================] - 20s 163ms/step - loss: 1.8445 - mean_Difference_in_Count: -0.0779 - std_Difference_in_Count: 0.9073 - mean_absolute_Difference_in_Count: 0.8156 - std_absolute_Difference_in_Count: 0.6940 - MSE: 1.3839 - val_loss: 4.5227 - val_mean_Difference_in_Count: 0.8205 - val_std_Difference_in_Count: 1.7219 - val_mean_absolute_Difference_in_Count: 1.5385 - val_std_absolute_Difference_in_Count: 1.1785 - val_MSE: 4.1410\n",
            "Epoch 5/100\n",
            "122/122 [==============================] - 20s 164ms/step - loss: 2.4173 - mean_Difference_in_Count: 0.0273 - std_Difference_in_Count: 0.9525 - mean_absolute_Difference_in_Count: 1.0219 - std_absolute_Difference_in_Count: 0.7858 - MSE: 2.0055 - val_loss: 6.1428 - val_mean_Difference_in_Count: -1.5385 - val_std_Difference_in_Count: 1.6447 - val_mean_absolute_Difference_in_Count: 1.8590 - val_std_absolute_Difference_in_Count: 1.2910 - val_MSE: 5.6026\n",
            "Epoch 6/100\n",
            "122/122 [==============================] - 20s 164ms/step - loss: 1.9328 - mean_Difference_in_Count: -0.0533 - std_Difference_in_Count: 0.9051 - mean_absolute_Difference_in_Count: 0.9057 - std_absolute_Difference_in_Count: 0.7337 - MSE: 1.7227 - val_loss: 3.9658 - val_mean_Difference_in_Count: -0.0321 - val_std_Difference_in_Count: 1.7054 - val_mean_absolute_Difference_in_Count: 1.4295 - val_std_absolute_Difference_in_Count: 1.0215 - val_MSE: 3.6603\n",
            "Epoch 7/100\n",
            "122/122 [==============================] - 20s 163ms/step - loss: 1.6562 - mean_Difference_in_Count: -0.0601 - std_Difference_in_Count: 0.9126 - mean_absolute_Difference_in_Count: 0.8060 - std_absolute_Difference_in_Count: 0.6924 - MSE: 1.3579 - val_loss: 4.1237 - val_mean_Difference_in_Count: -0.6603 - val_std_Difference_in_Count: 1.6691 - val_mean_absolute_Difference_in_Count: 1.5064 - val_std_absolute_Difference_in_Count: 1.0556 - val_MSE: 3.7885\n",
            "Epoch 8/100\n",
            "122/122 [==============================] - 20s 163ms/step - loss: 1.5351 - mean_Difference_in_Count: -0.0219 - std_Difference_in_Count: 0.9185 - mean_absolute_Difference_in_Count: 0.7869 - std_absolute_Difference_in_Count: 0.6966 - MSE: 1.2541 - val_loss: 6.1585 - val_mean_Difference_in_Count: -1.5705 - val_std_Difference_in_Count: 1.7655 - val_mean_absolute_Difference_in_Count: 1.9295 - val_std_absolute_Difference_in_Count: 1.3519 - val_MSE: 6.1603\n",
            "Epoch 9/100\n",
            "122/122 [==============================] - 20s 164ms/step - loss: 1.2464 - mean_Difference_in_Count: -0.0615 - std_Difference_in_Count: 0.7723 - mean_absolute_Difference_in_Count: 0.6981 - std_absolute_Difference_in_Count: 0.6198 - MSE: 1.0260 - val_loss: 3.6817 - val_mean_Difference_in_Count: -0.3397 - val_std_Difference_in_Count: 1.6517 - val_mean_absolute_Difference_in_Count: 1.4038 - val_std_absolute_Difference_in_Count: 1.0047 - val_MSE: 3.4167\n",
            "Epoch 10/100\n",
            "122/122 [==============================] - 20s 164ms/step - loss: 1.3442 - mean_Difference_in_Count: -0.0464 - std_Difference_in_Count: 0.8226 - mean_absolute_Difference_in_Count: 0.7322 - std_absolute_Difference_in_Count: 0.6373 - MSE: 1.1366 - val_loss: 3.6803 - val_mean_Difference_in_Count: -0.4615 - val_std_Difference_in_Count: 1.6653 - val_mean_absolute_Difference_in_Count: 1.4359 - val_std_absolute_Difference_in_Count: 1.0310 - val_MSE: 3.5385\n",
            "Epoch 11/100\n",
            "122/122 [==============================] - 20s 163ms/step - loss: 1.4160 - mean_Difference_in_Count: -0.0574 - std_Difference_in_Count: 0.8513 - mean_absolute_Difference_in_Count: 0.7486 - std_absolute_Difference_in_Count: 0.6706 - MSE: 1.2787 - val_loss: 4.3604 - val_mean_Difference_in_Count: -0.3462 - val_std_Difference_in_Count: 1.7749 - val_mean_absolute_Difference_in_Count: 1.4872 - val_std_absolute_Difference_in_Count: 1.1726 - val_MSE: 4.1282\n",
            "Epoch 12/100\n",
            "122/122 [==============================] - 20s 163ms/step - loss: 1.4794 - mean_Difference_in_Count: -0.0109 - std_Difference_in_Count: 0.8474 - mean_absolute_Difference_in_Count: 0.7541 - std_absolute_Difference_in_Count: 0.6736 - MSE: 1.2896 - val_loss: 3.8590 - val_mean_Difference_in_Count: -0.5769 - val_std_Difference_in_Count: 1.6480 - val_mean_absolute_Difference_in_Count: 1.4359 - val_std_absolute_Difference_in_Count: 1.0511 - val_MSE: 3.5769\n",
            "Epoch 13/100\n",
            "122/122 [==============================] - 20s 164ms/step - loss: 1.6148 - mean_Difference_in_Count: -0.0383 - std_Difference_in_Count: 0.9156 - mean_absolute_Difference_in_Count: 0.8087 - std_absolute_Difference_in_Count: 0.7190 - MSE: 1.4262 - val_loss: 3.3839 - val_mean_Difference_in_Count: -0.1795 - val_std_Difference_in_Count: 1.6251 - val_mean_absolute_Difference_in_Count: 1.3718 - val_std_absolute_Difference_in_Count: 1.0135 - val_MSE: 3.1667\n",
            "Epoch 14/100\n",
            "122/122 [==============================] - 20s 163ms/step - loss: 1.7837 - mean_Difference_in_Count: -0.0109 - std_Difference_in_Count: 0.8683 - mean_absolute_Difference_in_Count: 0.8716 - std_absolute_Difference_in_Count: 0.7271 - MSE: 1.7186 - val_loss: 5.9678 - val_mean_Difference_in_Count: 1.0000 - val_std_Difference_in_Count: 1.9698 - val_mean_absolute_Difference_in_Count: 1.8077 - val_std_absolute_Difference_in_Count: 1.3784 - val_MSE: 5.7179\n",
            "Epoch 15/100\n",
            "122/122 [==============================] - 20s 163ms/step - loss: 2.4127 - mean_Difference_in_Count: -0.0260 - std_Difference_in_Count: 1.0594 - mean_absolute_Difference_in_Count: 1.1079 - std_absolute_Difference_in_Count: 0.7916 - MSE: 2.4604 - val_loss: 10.5320 - val_mean_Difference_in_Count: -2.1923 - val_std_Difference_in_Count: 2.0517 - val_mean_absolute_Difference_in_Count: 2.4872 - val_std_absolute_Difference_in_Count: 1.7879 - val_MSE: 10.5897\n",
            "Epoch 16/100\n",
            "122/122 [==============================] - 20s 163ms/step - loss: 2.1472 - mean_Difference_in_Count: -0.1230 - std_Difference_in_Count: 0.9746 - mean_absolute_Difference_in_Count: 1.0082 - std_absolute_Difference_in_Count: 0.7523 - MSE: 1.9672 - val_loss: 4.5713 - val_mean_Difference_in_Count: -0.8141 - val_std_Difference_in_Count: 1.7609 - val_mean_absolute_Difference_in_Count: 1.5705 - val_std_absolute_Difference_in_Count: 1.1973 - val_MSE: 4.4679\n",
            "Epoch 17/100\n",
            "122/122 [==============================] - 20s 162ms/step - loss: 1.2949 - mean_Difference_in_Count: -0.0178 - std_Difference_in_Count: 0.8269 - mean_absolute_Difference_in_Count: 0.7309 - std_absolute_Difference_in_Count: 0.6256 - MSE: 1.0833 - val_loss: 4.4643 - val_mean_Difference_in_Count: 0.5000 - val_std_Difference_in_Count: 1.8416 - val_mean_absolute_Difference_in_Count: 1.5897 - val_std_absolute_Difference_in_Count: 1.0879 - val_MSE: 4.2179\n",
            "Epoch 18/100\n",
            "122/122 [==============================] - 20s 162ms/step - loss: 1.3208 - mean_Difference_in_Count: -0.0027 - std_Difference_in_Count: 0.8267 - mean_absolute_Difference_in_Count: 0.7404 - std_absolute_Difference_in_Count: 0.6456 - MSE: 1.1448 - val_loss: 8.0251 - val_mean_Difference_in_Count: -1.8782 - val_std_Difference_in_Count: 1.7792 - val_mean_absolute_Difference_in_Count: 2.1090 - val_std_absolute_Difference_in_Count: 1.5462 - val_MSE: 7.7756\n"
          ],
          "name": "stdout"
        }
      ]
    },
    {
      "cell_type": "code",
      "metadata": {
        "id": "_pNUdHCY17-o",
        "colab_type": "code",
        "outputId": "9dedb856-40ca-4eb0-abf2-859079bc66de",
        "colab": {
          "base_uri": "https://localhost:8080/",
          "height": 1000
        }
      },
      "source": [
        "fitter_functions(create_Xception_model(),A1_X_train,A1_X_test,A1_Y_train,A1_Y_test,True)"
      ],
      "execution_count": 0,
      "outputs": [
        {
          "output_type": "stream",
          "text": [
            "Epoch 1/100\n",
            "180/180 [==============================] - 30s 168ms/step - loss: 16.1058 - mean_Difference_in_Count: -0.6963 - std_Difference_in_Count: 1.5929 - mean_absolute_Difference_in_Count: 2.3519 - std_absolute_Difference_in_Count: 1.1336 - MSE: 15.0907 - val_loss: 3.6847 - val_mean_Difference_in_Count: -0.5000 - val_std_Difference_in_Count: 1.5864 - val_mean_absolute_Difference_in_Count: 1.3000 - val_std_absolute_Difference_in_Count: 1.0376 - val_MSE: 2.7667\n",
            "Epoch 2/100\n",
            "180/180 [==============================] - 29s 160ms/step - loss: 3.4883 - mean_Difference_in_Count: -0.0546 - std_Difference_in_Count: 1.3971 - mean_absolute_Difference_in_Count: 1.3565 - std_absolute_Difference_in_Count: 0.9255 - MSE: 3.0046 - val_loss: 3.1099 - val_mean_Difference_in_Count: -0.4667 - val_std_Difference_in_Count: 1.5861 - val_mean_absolute_Difference_in_Count: 1.2667 - val_std_absolute_Difference_in_Count: 1.0625 - val_MSE: 2.7333\n",
            "Epoch 3/100\n",
            "180/180 [==============================] - 29s 159ms/step - loss: 3.1320 - mean_Difference_in_Count: -0.0574 - std_Difference_in_Count: 1.3074 - mean_absolute_Difference_in_Count: 1.2833 - std_absolute_Difference_in_Count: 0.9270 - MSE: 2.7759 - val_loss: 3.4463 - val_mean_Difference_in_Count: -0.8333 - val_std_Difference_in_Count: 1.6142 - val_mean_absolute_Difference_in_Count: 1.4333 - val_std_absolute_Difference_in_Count: 1.1160 - val_MSE: 3.3000\n",
            "Epoch 4/100\n",
            "180/180 [==============================] - 29s 160ms/step - loss: 2.6820 - mean_Difference_in_Count: -0.0398 - std_Difference_in_Count: 1.2032 - mean_absolute_Difference_in_Count: 1.2139 - std_absolute_Difference_in_Count: 0.8468 - MSE: 2.4231 - val_loss: 3.6879 - val_mean_Difference_in_Count: -0.5333 - val_std_Difference_in_Count: 1.7269 - val_mean_absolute_Difference_in_Count: 1.3333 - val_std_absolute_Difference_in_Count: 1.2202 - val_MSE: 3.2667\n",
            "Epoch 5/100\n",
            "180/180 [==============================] - 29s 160ms/step - loss: 2.6437 - mean_Difference_in_Count: -0.0787 - std_Difference_in_Count: 1.1722 - mean_absolute_Difference_in_Count: 1.1880 - std_absolute_Difference_in_Count: 0.8303 - MSE: 2.3991 - val_loss: 3.5773 - val_mean_Difference_in_Count: -0.4667 - val_std_Difference_in_Count: 1.7075 - val_mean_absolute_Difference_in_Count: 1.4000 - val_std_absolute_Difference_in_Count: 1.0832 - val_MSE: 3.1333\n",
            "Epoch 6/100\n",
            "180/180 [==============================] - 29s 159ms/step - loss: 2.2509 - mean_Difference_in_Count: -0.0648 - std_Difference_in_Count: 1.1245 - mean_absolute_Difference_in_Count: 1.0796 - std_absolute_Difference_in_Count: 0.7864 - MSE: 2.0185 - val_loss: 5.0031 - val_mean_Difference_in_Count: -1.1000 - val_std_Difference_in_Count: 1.9035 - val_mean_absolute_Difference_in_Count: 1.7000 - val_std_absolute_Difference_in_Count: 1.3940 - val_MSE: 4.8333\n",
            "Epoch 7/100\n",
            "180/180 [==============================] - 29s 160ms/step - loss: 2.0614 - mean_Difference_in_Count: -0.0546 - std_Difference_in_Count: 1.1239 - mean_absolute_Difference_in_Count: 1.0250 - std_absolute_Difference_in_Count: 0.7818 - MSE: 1.8713 - val_loss: 5.0574 - val_mean_Difference_in_Count: -1.2000 - val_std_Difference_in_Count: 1.9732 - val_mean_absolute_Difference_in_Count: 1.6667 - val_std_absolute_Difference_in_Count: 1.5986 - val_MSE: 5.3333\n"
          ],
          "name": "stdout"
        }
      ]
    },
    {
      "cell_type": "code",
      "metadata": {
        "id": "b9cMEzNKQemv",
        "colab_type": "code",
        "outputId": "e2636802-36f0-46e5-b810-4f1a6d90f9bb",
        "colab": {
          "base_uri": "https://localhost:8080/",
          "height": 1000
        }
      },
      "source": [
        "fitter_functions(create_Xception_model(),A2_X_train,A2_X_test,A2_Y_train,A2_Y_test,True)"
      ],
      "execution_count": 0,
      "outputs": [
        {
          "output_type": "stream",
          "text": [
            "Epoch 1/100\n",
            "252/252 [==============================] - 42s 165ms/step - loss: 7.0875 - mean_Difference_in_Count: -0.3042 - std_Difference_in_Count: 1.6517 - mean_absolute_Difference_in_Count: 1.8148 - std_absolute_Difference_in_Count: 1.0918 - MSE: 6.4273 - val_loss: 4.1443 - val_mean_Difference_in_Count: -0.7063 - val_std_Difference_in_Count: 1.8157 - val_mean_absolute_Difference_in_Count: 1.5312 - val_std_absolute_Difference_in_Count: 1.2789 - val_MSE: 3.9813\n",
            "Epoch 2/100\n",
            "252/252 [==============================] - 40s 159ms/step - loss: 3.6788 - mean_Difference_in_Count: -0.0913 - std_Difference_in_Count: 1.4504 - mean_absolute_Difference_in_Count: 1.4511 - std_absolute_Difference_in_Count: 0.9794 - MSE: 3.4947 - val_loss: 4.6878 - val_mean_Difference_in_Count: -0.0531 - val_std_Difference_in_Count: 2.0646 - val_mean_absolute_Difference_in_Count: 1.8406 - val_std_absolute_Difference_in_Count: 1.1367 - val_MSE: 4.6906\n",
            "Epoch 3/100\n",
            "252/252 [==============================] - 40s 159ms/step - loss: 3.0394 - mean_Difference_in_Count: -0.0708 - std_Difference_in_Count: 1.3301 - mean_absolute_Difference_in_Count: 1.3128 - std_absolute_Difference_in_Count: 0.9044 - MSE: 2.9147 - val_loss: 5.2238 - val_mean_Difference_in_Count: 0.7094 - val_std_Difference_in_Count: 2.0650 - val_mean_absolute_Difference_in_Count: 1.7906 - val_std_absolute_Difference_in_Count: 1.3505 - val_MSE: 5.0406\n",
            "Epoch 4/100\n",
            "252/252 [==============================] - 40s 159ms/step - loss: 2.4596 - mean_Difference_in_Count: -0.0602 - std_Difference_in_Count: 1.1697 - mean_absolute_Difference_in_Count: 1.1792 - std_absolute_Difference_in_Count: 0.8156 - MSE: 2.3221 - val_loss: 5.2723 - val_mean_Difference_in_Count: -0.2906 - val_std_Difference_in_Count: 2.1341 - val_mean_absolute_Difference_in_Count: 1.8844 - val_std_absolute_Difference_in_Count: 1.1686 - val_MSE: 4.9594\n",
            "Epoch 5/100\n",
            "252/252 [==============================] - 40s 159ms/step - loss: 2.1939 - mean_Difference_in_Count: -0.0463 - std_Difference_in_Count: 1.1125 - mean_absolute_Difference_in_Count: 1.0886 - std_absolute_Difference_in_Count: 0.8128 - MSE: 2.1376 - val_loss: 5.8247 - val_mean_Difference_in_Count: -0.5156 - val_std_Difference_in_Count: 2.1021 - val_mean_absolute_Difference_in_Count: 1.7781 - val_std_absolute_Difference_in_Count: 1.3410 - val_MSE: 5.1031\n",
            "Epoch 6/100\n",
            "252/252 [==============================] - 40s 160ms/step - loss: 2.0731 - mean_Difference_in_Count: -0.0628 - std_Difference_in_Count: 1.0128 - mean_absolute_Difference_in_Count: 1.0800 - std_absolute_Difference_in_Count: 0.7672 - MSE: 2.0033 - val_loss: 17.1847 - val_mean_Difference_in_Count: 3.5187 - val_std_Difference_in_Count: 1.8695 - val_mean_absolute_Difference_in_Count: 3.5187 - val_std_absolute_Difference_in_Count: 1.8695 - val_MSE: 16.0625\n"
          ],
          "name": "stdout"
        }
      ]
    },
    {
      "cell_type": "code",
      "metadata": {
        "id": "5YxytH4olB1G",
        "colab_type": "code",
        "outputId": "9635d133-fd6d-41cc-c4a5-c4d21387f362",
        "colab": {
          "base_uri": "https://localhost:8080/",
          "height": 1000
        }
      },
      "source": [
        "fitter_functions(create_Xception_model(),A3_X_train,A3_X_test,A3_Y_train,A3_Y_test,True)"
      ],
      "execution_count": 0,
      "outputs": [
        {
          "output_type": "stream",
          "text": [
            "Epoch 1/100\n",
            "96/96 [==============================] - 16s 168ms/step - loss: 6.3137 - mean_Difference_in_Count: -0.2509 - std_Difference_in_Count: 1.4285 - mean_absolute_Difference_in_Count: 1.6554 - std_absolute_Difference_in_Count: 1.0295 - MSE: 5.1484 - val_loss: 10.9506 - val_mean_Difference_in_Count: -1.1250 - val_std_Difference_in_Count: 3.0797 - val_mean_absolute_Difference_in_Count: 2.3750 - val_std_absolute_Difference_in_Count: 2.2604 - val_MSE: 10.7500\n",
            "Epoch 2/100\n",
            "96/96 [==============================] - 15s 158ms/step - loss: 2.6220 - mean_Difference_in_Count: -0.0781 - std_Difference_in_Count: 1.2929 - mean_absolute_Difference_in_Count: 1.1753 - std_absolute_Difference_in_Count: 0.8713 - MSE: 2.4479 - val_loss: 15.0102 - val_mean_Difference_in_Count: 0.8750 - val_std_Difference_in_Count: 3.6891 - val_mean_absolute_Difference_in_Count: 3.1250 - val_std_absolute_Difference_in_Count: 2.1469 - val_MSE: 14.3750\n",
            "Epoch 3/100\n",
            "96/96 [==============================] - 15s 157ms/step - loss: 2.3309 - mean_Difference_in_Count: -0.0391 - std_Difference_in_Count: 1.1224 - mean_absolute_Difference_in_Count: 1.0738 - std_absolute_Difference_in_Count: 0.8218 - MSE: 2.1398 - val_loss: 11.5785 - val_mean_Difference_in_Count: -0.6875 - val_std_Difference_in_Count: 3.3301 - val_mean_absolute_Difference_in_Count: 2.5625 - val_std_absolute_Difference_in_Count: 2.2352 - val_MSE: 11.5625\n",
            "Epoch 4/100\n",
            "96/96 [==============================] - 15s 158ms/step - loss: 1.8423 - mean_Difference_in_Count: -0.0339 - std_Difference_in_Count: 1.0367 - mean_absolute_Difference_in_Count: 0.9957 - std_absolute_Difference_in_Count: 0.7682 - MSE: 1.8151 - val_loss: 12.1557 - val_mean_Difference_in_Count: 0.2500 - val_std_Difference_in_Count: 3.4369 - val_mean_absolute_Difference_in_Count: 2.5000 - val_std_absolute_Difference_in_Count: 2.3717 - val_MSE: 11.8750\n",
            "Epoch 5/100\n",
            "96/96 [==============================] - 15s 157ms/step - loss: 1.7917 - mean_Difference_in_Count: -0.0087 - std_Difference_in_Count: 0.9242 - mean_absolute_Difference_in_Count: 0.9583 - std_absolute_Difference_in_Count: 0.6857 - MSE: 1.6667 - val_loss: 11.8000 - val_mean_Difference_in_Count: 0.3125 - val_std_Difference_in_Count: 3.3301 - val_mean_absolute_Difference_in_Count: 2.5625 - val_std_absolute_Difference_in_Count: 2.1497 - val_MSE: 11.1875\n",
            "Epoch 6/100\n",
            "96/96 [==============================] - 15s 158ms/step - loss: 1.1392 - mean_Difference_in_Count: -0.0477 - std_Difference_in_Count: 0.7827 - mean_absolute_Difference_in_Count: 0.7370 - std_absolute_Difference_in_Count: 0.5759 - MSE: 1.0773 - val_loss: 12.4326 - val_mean_Difference_in_Count: -0.0625 - val_std_Difference_in_Count: 3.5261 - val_mean_absolute_Difference_in_Count: 2.6875 - val_std_absolute_Difference_in_Count: 2.2836 - val_MSE: 12.4375\n"
          ],
          "name": "stdout"
        }
      ]
    },
    {
      "cell_type": "code",
      "metadata": {
        "id": "1lUJmc5goKKb",
        "colab_type": "code",
        "outputId": "c97bdb1b-47ab-4949-c0e4-0bdfa10686dd",
        "colab": {
          "base_uri": "https://localhost:8080/",
          "height": 1000
        }
      },
      "source": [
        "fitter_functions(create_Xception_model(),A4_X_train,A4_X_test,A4_Y_train,A4_Y_test,True)"
      ],
      "execution_count": 0,
      "outputs": [
        {
          "output_type": "stream",
          "text": [
            "Epoch 1/100\n",
            "936/936 [==============================] - 152s 162ms/step - loss: 5.8453 - mean_Difference_in_Count: -0.1494 - std_Difference_in_Count: 1.5150 - mean_absolute_Difference_in_Count: 1.5597 - std_absolute_Difference_in_Count: 1.1024 - MSE: 5.2420 - val_loss: 4.2955 - val_mean_Difference_in_Count: -0.8071 - val_std_Difference_in_Count: 1.8398 - val_mean_absolute_Difference_in_Count: 1.4625 - val_std_absolute_Difference_in_Count: 1.3783 - val_MSE: 4.0696\n",
            "Epoch 2/100\n",
            "936/936 [==============================] - 150s 160ms/step - loss: 3.0538 - mean_Difference_in_Count: -0.0614 - std_Difference_in_Count: 1.3317 - mean_absolute_Difference_in_Count: 1.2580 - std_absolute_Difference_in_Count: 0.9313 - MSE: 2.8257 - val_loss: 6.9806 - val_mean_Difference_in_Count: -1.4018 - val_std_Difference_in_Count: 2.1722 - val_mean_absolute_Difference_in_Count: 1.9036 - val_std_absolute_Difference_in_Count: 1.7575 - val_MSE: 6.7893\n",
            "Epoch 3/100\n",
            "936/936 [==============================] - 150s 160ms/step - loss: 2.6442 - mean_Difference_in_Count: -0.0490 - std_Difference_in_Count: 1.2605 - mean_absolute_Difference_in_Count: 1.1822 - std_absolute_Difference_in_Count: 0.8784 - MSE: 2.5016 - val_loss: 3.4424 - val_mean_Difference_in_Count: -0.2491 - val_std_Difference_in_Count: 1.7935 - val_mean_absolute_Difference_in_Count: 1.3670 - val_std_absolute_Difference_in_Count: 1.1882 - val_MSE: 3.3063\n",
            "Epoch 4/100\n",
            "936/936 [==============================] - 150s 161ms/step - loss: 2.8014 - mean_Difference_in_Count: -0.0484 - std_Difference_in_Count: 1.2781 - mean_absolute_Difference_in_Count: 1.2087 - std_absolute_Difference_in_Count: 0.9243 - MSE: 2.6877 - val_loss: 7.8051 - val_mean_Difference_in_Count: -1.9080 - val_std_Difference_in_Count: 2.0061 - val_mean_absolute_Difference_in_Count: 2.0991 - val_std_absolute_Difference_in_Count: 1.8054 - val_MSE: 7.7241\n",
            "Epoch 5/100\n",
            "936/936 [==============================] - 150s 160ms/step - loss: 2.4861 - mean_Difference_in_Count: -0.0507 - std_Difference_in_Count: 1.2329 - mean_absolute_Difference_in_Count: 1.1512 - std_absolute_Difference_in_Count: 0.8750 - MSE: 2.4072 - val_loss: 5.6426 - val_mean_Difference_in_Count: 1.2812 - val_std_Difference_in_Count: 1.9407 - val_mean_absolute_Difference_in_Count: 1.7330 - val_std_absolute_Difference_in_Count: 1.5481 - val_MSE: 5.4545\n",
            "Epoch 6/100\n",
            "936/936 [==============================] - 150s 160ms/step - loss: 2.1831 - mean_Difference_in_Count: -0.0379 - std_Difference_in_Count: 1.1720 - mean_absolute_Difference_in_Count: 1.0782 - std_absolute_Difference_in_Count: 0.8244 - MSE: 2.1077 - val_loss: 3.5573 - val_mean_Difference_in_Count: 0.1911 - val_std_Difference_in_Count: 1.8388 - val_mean_absolute_Difference_in_Count: 1.3857 - val_std_absolute_Difference_in_Count: 1.2200 - val_MSE: 3.4732\n",
            "Epoch 7/100\n",
            "936/936 [==============================] - 151s 161ms/step - loss: 2.2379 - mean_Difference_in_Count: -0.0436 - std_Difference_in_Count: 1.1697 - mean_absolute_Difference_in_Count: 1.0856 - std_absolute_Difference_in_Count: 0.8392 - MSE: 2.1562 - val_loss: 3.2716 - val_mean_Difference_in_Count: 0.2080 - val_std_Difference_in_Count: 1.8011 - val_mean_absolute_Difference_in_Count: 1.3955 - val_std_absolute_Difference_in_Count: 1.1515 - val_MSE: 3.3330\n",
            "Epoch 8/100\n",
            "936/936 [==============================] - 150s 160ms/step - loss: 2.1619 - mean_Difference_in_Count: -0.0345 - std_Difference_in_Count: 1.1605 - mean_absolute_Difference_in_Count: 1.0491 - std_absolute_Difference_in_Count: 0.8349 - MSE: 2.0969 - val_loss: 4.4406 - val_mean_Difference_in_Count: 0.8062 - val_std_Difference_in_Count: 1.9052 - val_mean_absolute_Difference_in_Count: 1.6313 - val_std_absolute_Difference_in_Count: 1.2681 - val_MSE: 4.3741\n",
            "Epoch 9/100\n",
            "936/936 [==============================] - 150s 160ms/step - loss: 1.8962 - mean_Difference_in_Count: -0.0296 - std_Difference_in_Count: 1.0860 - mean_absolute_Difference_in_Count: 0.9964 - std_absolute_Difference_in_Count: 0.7766 - MSE: 1.8422 - val_loss: 4.0384 - val_mean_Difference_in_Count: -0.3054 - val_std_Difference_in_Count: 1.9629 - val_mean_absolute_Difference_in_Count: 1.4911 - val_std_absolute_Difference_in_Count: 1.3088 - val_MSE: 3.9982\n",
            "Epoch 10/100\n",
            "936/936 [==============================] - 150s 160ms/step - loss: 1.9235 - mean_Difference_in_Count: -0.0324 - std_Difference_in_Count: 1.0871 - mean_absolute_Difference_in_Count: 0.9975 - std_absolute_Difference_in_Count: 0.8027 - MSE: 1.8914 - val_loss: 3.7968 - val_mean_Difference_in_Count: 0.3812 - val_std_Difference_in_Count: 1.8928 - val_mean_absolute_Difference_in_Count: 1.5205 - val_std_absolute_Difference_in_Count: 1.1851 - val_MSE: 3.8116\n",
            "Epoch 11/100\n",
            "936/936 [==============================] - 150s 160ms/step - loss: 1.8282 - mean_Difference_in_Count: -0.0182 - std_Difference_in_Count: 1.0644 - mean_absolute_Difference_in_Count: 0.9669 - std_absolute_Difference_in_Count: 0.7787 - MSE: 1.7910 - val_loss: 4.4652 - val_mean_Difference_in_Count: -0.8170 - val_std_Difference_in_Count: 1.9504 - val_mean_absolute_Difference_in_Count: 1.5098 - val_std_absolute_Difference_in_Count: 1.4822 - val_MSE: 4.5580\n",
            "Epoch 12/100\n",
            "936/936 [==============================] - 150s 160ms/step - loss: 1.8779 - mean_Difference_in_Count: -0.0249 - std_Difference_in_Count: 1.0740 - mean_absolute_Difference_in_Count: 0.9729 - std_absolute_Difference_in_Count: 0.7883 - MSE: 1.8383 - val_loss: 3.8760 - val_mean_Difference_in_Count: -0.1804 - val_std_Difference_in_Count: 1.9395 - val_mean_absolute_Difference_in_Count: 1.4321 - val_std_absolute_Difference_in_Count: 1.3293 - val_MSE: 3.9000\n"
          ],
          "name": "stdout"
        }
      ]
    },
    {
      "cell_type": "code",
      "metadata": {
        "id": "nkqxJtVf4S1G",
        "colab_type": "code",
        "outputId": "400bd045-3ca9-479f-ef19-8dda49a0938f",
        "colab": {
          "base_uri": "https://localhost:8080/",
          "height": 1000
        }
      },
      "source": [
        "fitter_functions(create_Xception_model(),Ac_X_train,A1_X_test,Ac_Y_train,A1_Y_test,True)"
      ],
      "execution_count": 0,
      "outputs": [
        {
          "output_type": "stream",
          "text": [
            "Epoch 1/100\n",
            "1464/1464 [==============================] - 235s 160ms/step - loss: 4.5041 - mean_Difference_in_Count: -0.1009 - std_Difference_in_Count: 1.4312 - mean_absolute_Difference_in_Count: 1.4080 - std_absolute_Difference_in_Count: 0.9934 - MSE: 4.0275 - val_loss: 3.9384 - val_mean_Difference_in_Count: -0.7333 - val_std_Difference_in_Count: 1.7876 - val_mean_absolute_Difference_in_Count: 1.5333 - val_std_absolute_Difference_in_Count: 1.1757 - val_MSE: 3.7333\n",
            "Epoch 2/100\n",
            "1464/1464 [==============================] - 234s 160ms/step - loss: 2.9405 - mean_Difference_in_Count: -0.0427 - std_Difference_in_Count: 1.3288 - mean_absolute_Difference_in_Count: 1.2542 - std_absolute_Difference_in_Count: 0.9233 - MSE: 2.8034 - val_loss: 3.8668 - val_mean_Difference_in_Count: 0.2333 - val_std_Difference_in_Count: 1.8382 - val_mean_absolute_Difference_in_Count: 1.5000 - val_std_absolute_Difference_in_Count: 1.0878 - val_MSE: 3.4333\n",
            "Epoch 3/100\n",
            "1464/1464 [==============================] - 233s 159ms/step - loss: 2.5876 - mean_Difference_in_Count: -0.0439 - std_Difference_in_Count: 1.2609 - mean_absolute_Difference_in_Count: 1.1819 - std_absolute_Difference_in_Count: 0.8729 - MSE: 2.4891 - val_loss: 2.9659 - val_mean_Difference_in_Count: -0.2667 - val_std_Difference_in_Count: 1.7499 - val_mean_absolute_Difference_in_Count: 1.4667 - val_std_absolute_Difference_in_Count: 0.9911 - val_MSE: 3.1333\n",
            "Epoch 4/100\n",
            "1464/1464 [==============================] - 233s 159ms/step - loss: 2.6058 - mean_Difference_in_Count: -0.0393 - std_Difference_in_Count: 1.2726 - mean_absolute_Difference_in_Count: 1.2048 - std_absolute_Difference_in_Count: 0.8706 - MSE: 2.5855 - val_loss: 3.1266 - val_mean_Difference_in_Count: 0.0667 - val_std_Difference_in_Count: 1.7689 - val_mean_absolute_Difference_in_Count: 1.4000 - val_std_absolute_Difference_in_Count: 1.0832 - val_MSE: 3.1333\n",
            "Epoch 5/100\n",
            "1464/1464 [==============================] - 233s 159ms/step - loss: 2.2908 - mean_Difference_in_Count: -0.0326 - std_Difference_in_Count: 1.1842 - mean_absolute_Difference_in_Count: 1.1154 - std_absolute_Difference_in_Count: 0.8307 - MSE: 2.2673 - val_loss: 3.2746 - val_mean_Difference_in_Count: 0.2667 - val_std_Difference_in_Count: 1.7499 - val_mean_absolute_Difference_in_Count: 1.5333 - val_std_absolute_Difference_in_Count: 0.8844 - val_MSE: 3.1333\n",
            "Epoch 6/100\n",
            "1464/1464 [==============================] - 233s 159ms/step - loss: 2.3603 - mean_Difference_in_Count: -0.0322 - std_Difference_in_Count: 1.2057 - mean_absolute_Difference_in_Count: 1.1397 - std_absolute_Difference_in_Count: 0.8316 - MSE: 2.3813 - val_loss: 2.7919 - val_mean_Difference_in_Count: -0.2667 - val_std_Difference_in_Count: 1.5902 - val_mean_absolute_Difference_in_Count: 1.3333 - val_std_absolute_Difference_in_Count: 0.9068 - val_MSE: 2.6000\n",
            "Epoch 7/100\n",
            "1464/1464 [==============================] - 233s 159ms/step - loss: 2.1540 - mean_Difference_in_Count: -0.0184 - std_Difference_in_Count: 1.1541 - mean_absolute_Difference_in_Count: 1.0756 - std_absolute_Difference_in_Count: 0.8116 - MSE: 2.1232 - val_loss: 6.2565 - val_mean_Difference_in_Count: -1.0000 - val_std_Difference_in_Count: 2.2509 - val_mean_absolute_Difference_in_Count: 1.7333 - val_std_absolute_Difference_in_Count: 1.7499 - val_MSE: 6.0667\n",
            "Epoch 8/100\n",
            "1464/1464 [==============================] - 233s 159ms/step - loss: 2.0992 - mean_Difference_in_Count: -0.0170 - std_Difference_in_Count: 1.1405 - mean_absolute_Difference_in_Count: 1.0529 - std_absolute_Difference_in_Count: 0.8172 - MSE: 2.0693 - val_loss: 7.6042 - val_mean_Difference_in_Count: 2.1667 - val_std_Difference_in_Count: 1.6142 - val_mean_absolute_Difference_in_Count: 2.4333 - val_std_absolute_Difference_in_Count: 1.1743 - val_MSE: 7.3000\n",
            "Epoch 9/100\n",
            "1464/1464 [==============================] - 233s 159ms/step - loss: 2.0595 - mean_Difference_in_Count: -0.0130 - std_Difference_in_Count: 1.1208 - mean_absolute_Difference_in_Count: 1.0526 - std_absolute_Difference_in_Count: 0.7924 - MSE: 2.0307 - val_loss: 5.3074 - val_mean_Difference_in_Count: -1.5000 - val_std_Difference_in_Count: 1.7464 - val_mean_absolute_Difference_in_Count: 1.7000 - val_std_absolute_Difference_in_Count: 1.5524 - val_MSE: 5.3000\n",
            "Epoch 10/100\n",
            "1464/1464 [==============================] - 233s 159ms/step - loss: 1.9439 - mean_Difference_in_Count: -0.0204 - std_Difference_in_Count: 1.1010 - mean_absolute_Difference_in_Count: 1.0165 - std_absolute_Difference_in_Count: 0.7835 - MSE: 1.8990 - val_loss: 5.4679 - val_mean_Difference_in_Count: -0.3000 - val_std_Difference_in_Count: 2.3259 - val_mean_absolute_Difference_in_Count: 1.7667 - val_std_absolute_Difference_in_Count: 1.5424 - val_MSE: 5.5000\n",
            "Epoch 11/100\n",
            "1464/1464 [==============================] - 233s 159ms/step - loss: 2.0013 - mean_Difference_in_Count: -0.0196 - std_Difference_in_Count: 1.0998 - mean_absolute_Difference_in_Count: 1.0298 - std_absolute_Difference_in_Count: 0.7829 - MSE: 2.0000 - val_loss: 3.7016 - val_mean_Difference_in_Count: -0.9333 - val_std_Difference_in_Count: 1.6720 - val_mean_absolute_Difference_in_Count: 1.4000 - val_std_absolute_Difference_in_Count: 1.3064 - val_MSE: 3.6667\n"
          ],
          "name": "stdout"
        }
      ]
    },
    {
      "cell_type": "code",
      "metadata": {
        "id": "uaPOT5JS-hyo",
        "colab_type": "code",
        "outputId": "b01d7de5-b8df-4bbc-ebfa-1aa78d3c9d7e",
        "colab": {
          "base_uri": "https://localhost:8080/",
          "height": 1000
        }
      },
      "source": [
        "fitter_functions(create_Xception_model(),Ac_X_train,A2_X_test,Ac_Y_train,A2_Y_test,True)"
      ],
      "execution_count": 0,
      "outputs": [
        {
          "output_type": "stream",
          "text": [
            "Epoch 1/100\n",
            "1464/1464 [==============================] - 235s 161ms/step - loss: 3.7164 - mean_Difference_in_Count: -0.0878 - std_Difference_in_Count: 1.2896 - mean_absolute_Difference_in_Count: 1.2665 - std_absolute_Difference_in_Count: 0.9229 - MSE: 3.2563 - val_loss: 4.6558 - val_mean_Difference_in_Count: -0.2969 - val_std_Difference_in_Count: 1.9937 - val_mean_absolute_Difference_in_Count: 1.6406 - val_std_absolute_Difference_in_Count: 1.1931 - val_MSE: 4.1406\n",
            "Epoch 2/100\n",
            "1464/1464 [==============================] - 233s 159ms/step - loss: 2.3043 - mean_Difference_in_Count: -0.0370 - std_Difference_in_Count: 1.1752 - mean_absolute_Difference_in_Count: 1.0960 - std_absolute_Difference_in_Count: 0.8214 - MSE: 2.1640 - val_loss: 4.2254 - val_mean_Difference_in_Count: -0.4375 - val_std_Difference_in_Count: 1.8655 - val_mean_absolute_Difference_in_Count: 1.6125 - val_std_absolute_Difference_in_Count: 1.1911 - val_MSE: 4.0250\n",
            "Epoch 3/100\n",
            "1464/1464 [==============================] - 233s 159ms/step - loss: 2.0973 - mean_Difference_in_Count: -0.0409 - std_Difference_in_Count: 1.1194 - mean_absolute_Difference_in_Count: 1.0395 - std_absolute_Difference_in_Count: 0.7975 - MSE: 1.9983 - val_loss: 12.8637 - val_mean_Difference_in_Count: 2.7938 - val_std_Difference_in_Count: 1.9333 - val_mean_absolute_Difference_in_Count: 2.8937 - val_std_absolute_Difference_in_Count: 1.8131 - val_MSE: 11.7688\n",
            "Epoch 4/100\n",
            "1464/1464 [==============================] - 234s 160ms/step - loss: 1.8972 - mean_Difference_in_Count: -0.0321 - std_Difference_in_Count: 1.0697 - mean_absolute_Difference_in_Count: 0.9920 - std_absolute_Difference_in_Count: 0.7672 - MSE: 1.8283 - val_loss: 9.4801 - val_mean_Difference_in_Count: 1.8875 - val_std_Difference_in_Count: 2.1642 - val_mean_absolute_Difference_in_Count: 2.5062 - val_std_absolute_Difference_in_Count: 1.4548 - val_MSE: 8.5125\n",
            "Epoch 5/100\n",
            "1464/1464 [==============================] - 234s 160ms/step - loss: 1.8142 - mean_Difference_in_Count: -0.0295 - std_Difference_in_Count: 1.0385 - mean_absolute_Difference_in_Count: 0.9630 - std_absolute_Difference_in_Count: 0.7501 - MSE: 1.7426 - val_loss: 11.2456 - val_mean_Difference_in_Count: 1.9156 - val_std_Difference_in_Count: 2.5468 - val_mean_absolute_Difference_in_Count: 2.5406 - val_std_absolute_Difference_in_Count: 2.0123 - val_MSE: 10.5656\n",
            "Epoch 6/100\n",
            "1464/1464 [==============================] - 234s 160ms/step - loss: 1.7581 - mean_Difference_in_Count: -0.0147 - std_Difference_in_Count: 1.0213 - mean_absolute_Difference_in_Count: 0.9562 - std_absolute_Difference_in_Count: 0.7332 - MSE: 1.7176 - val_loss: 4.3751 - val_mean_Difference_in_Count: 0.3406 - val_std_Difference_in_Count: 1.9204 - val_mean_absolute_Difference_in_Count: 1.5406 - val_std_absolute_Difference_in_Count: 1.2561 - val_MSE: 4.0094\n",
            "Epoch 7/100\n",
            "1464/1464 [==============================] - 234s 160ms/step - loss: 1.6829 - mean_Difference_in_Count: -0.0242 - std_Difference_in_Count: 1.0040 - mean_absolute_Difference_in_Count: 0.9309 - std_absolute_Difference_in_Count: 0.7325 - MSE: 1.6335 - val_loss: 4.7228 - val_mean_Difference_in_Count: -0.2719 - val_std_Difference_in_Count: 1.9863 - val_mean_absolute_Difference_in_Count: 1.6719 - val_std_absolute_Difference_in_Count: 1.1898 - val_MSE: 4.2406\n"
          ],
          "name": "stdout"
        }
      ]
    },
    {
      "cell_type": "code",
      "metadata": {
        "id": "mXvF-P1TuWn7",
        "colab_type": "code",
        "outputId": "ea170cc2-e360-473b-905f-230c1467c497",
        "colab": {
          "base_uri": "https://localhost:8080/",
          "height": 1000
        }
      },
      "source": [
        "fitter_functions(create_Xception_model(),Ac_X_train,A3_X_test,Ac_Y_train,A3_Y_test,True)"
      ],
      "execution_count": 0,
      "outputs": [
        {
          "output_type": "stream",
          "text": [
            "Epoch 1/100\n",
            "1464/1464 [==============================] - 236s 161ms/step - loss: 8.4117 - mean_Difference_in_Count: -0.1442 - std_Difference_in_Count: 2.1158 - mean_absolute_Difference_in_Count: 2.1226 - std_absolute_Difference_in_Count: 1.4619 - MSE: 8.0732 - val_loss: 8.9014 - val_mean_Difference_in_Count: -0.8750 - val_std_Difference_in_Count: 2.8696 - val_mean_absolute_Difference_in_Count: 2.3750 - val_std_absolute_Difference_in_Count: 1.8329 - val_MSE: 9.0000\n",
            "Epoch 2/100\n",
            "1464/1464 [==============================] - 233s 159ms/step - loss: 5.4697 - mean_Difference_in_Count: -0.0894 - std_Difference_in_Count: 1.8766 - mean_absolute_Difference_in_Count: 1.7811 - std_absolute_Difference_in_Count: 1.2421 - MSE: 5.4498 - val_loss: 8.3984 - val_mean_Difference_in_Count: -0.0625 - val_std_Difference_in_Count: 2.9679 - val_mean_absolute_Difference_in_Count: 2.1875 - val_std_absolute_Difference_in_Count: 2.0068 - val_MSE: 8.8125\n",
            "Epoch 3/100\n",
            "1464/1464 [==============================] - 233s 159ms/step - loss: 5.1008 - mean_Difference_in_Count: -0.0684 - std_Difference_in_Count: 1.8064 - mean_absolute_Difference_in_Count: 1.7078 - std_absolute_Difference_in_Count: 1.2125 - MSE: 5.0418 - val_loss: 10.7671 - val_mean_Difference_in_Count: 0.9375 - val_std_Difference_in_Count: 3.0917 - val_mean_absolute_Difference_in_Count: 2.3125 - val_std_absolute_Difference_in_Count: 2.2561 - val_MSE: 10.4375\n",
            "Epoch 4/100\n",
            "1464/1464 [==============================] - 235s 160ms/step - loss: 4.9323 - mean_Difference_in_Count: -0.0692 - std_Difference_in_Count: 1.7604 - mean_absolute_Difference_in_Count: 1.6826 - std_absolute_Difference_in_Count: 1.1969 - MSE: 4.9417 - val_loss: 8.8230 - val_mean_Difference_in_Count: -0.6250 - val_std_Difference_in_Count: 2.8035 - val_mean_absolute_Difference_in_Count: 2.1250 - val_std_absolute_Difference_in_Count: 1.9325 - val_MSE: 8.2500\n",
            "Epoch 5/100\n",
            "1464/1464 [==============================] - 235s 161ms/step - loss: 4.6678 - mean_Difference_in_Count: -0.0729 - std_Difference_in_Count: 1.7384 - mean_absolute_Difference_in_Count: 1.6330 - std_absolute_Difference_in_Count: 1.1798 - MSE: 4.6423 - val_loss: 8.9824 - val_mean_Difference_in_Count: 0.2500 - val_std_Difference_in_Count: 3.1125 - val_mean_absolute_Difference_in_Count: 2.2500 - val_std_absolute_Difference_in_Count: 2.1651 - val_MSE: 9.7500\n",
            "Epoch 6/100\n",
            "1464/1464 [==============================] - 236s 161ms/step - loss: 4.8450 - mean_Difference_in_Count: -0.0644 - std_Difference_in_Count: 1.7613 - mean_absolute_Difference_in_Count: 1.6760 - std_absolute_Difference_in_Count: 1.1891 - MSE: 4.9565 - val_loss: 7.9883 - val_mean_Difference_in_Count: 0.4375 - val_std_Difference_in_Count: 2.8277 - val_mean_absolute_Difference_in_Count: 2.0625 - val_std_absolute_Difference_in_Count: 1.9833 - val_MSE: 8.1875\n",
            "Epoch 7/100\n",
            "1464/1464 [==============================] - 235s 161ms/step - loss: 4.2838 - mean_Difference_in_Count: -0.0529 - std_Difference_in_Count: 1.6444 - mean_absolute_Difference_in_Count: 1.5698 - std_absolute_Difference_in_Count: 1.1196 - MSE: 4.2982 - val_loss: 8.2364 - val_mean_Difference_in_Count: -0.0625 - val_std_Difference_in_Count: 2.9889 - val_mean_absolute_Difference_in_Count: 2.0625 - val_std_absolute_Difference_in_Count: 2.1642 - val_MSE: 8.9375\n",
            "Epoch 8/100\n",
            "1464/1464 [==============================] - 235s 160ms/step - loss: 4.2007 - mean_Difference_in_Count: -0.0485 - std_Difference_in_Count: 1.6719 - mean_absolute_Difference_in_Count: 1.5574 - std_absolute_Difference_in_Count: 1.1302 - MSE: 4.2609 - val_loss: 7.9329 - val_mean_Difference_in_Count: -0.3125 - val_std_Difference_in_Count: 2.8662 - val_mean_absolute_Difference_in_Count: 2.0625 - val_std_absolute_Difference_in_Count: 2.0146 - val_MSE: 8.3125\n",
            "Epoch 9/100\n",
            "1464/1464 [==============================] - 235s 160ms/step - loss: 3.8672 - mean_Difference_in_Count: -0.0437 - std_Difference_in_Count: 1.6022 - mean_absolute_Difference_in_Count: 1.5016 - std_absolute_Difference_in_Count: 1.0634 - MSE: 3.8793 - val_loss: 9.0405 - val_mean_Difference_in_Count: 0.7500 - val_std_Difference_in_Count: 2.9047 - val_mean_absolute_Difference_in_Count: 2.1250 - val_std_absolute_Difference_in_Count: 2.1176 - val_MSE: 9.0000\n",
            "Epoch 10/100\n",
            "1464/1464 [==============================] - 234s 160ms/step - loss: 3.8060 - mean_Difference_in_Count: -0.0332 - std_Difference_in_Count: 1.5776 - mean_absolute_Difference_in_Count: 1.4811 - std_absolute_Difference_in_Count: 1.0539 - MSE: 3.8386 - val_loss: 8.0959 - val_mean_Difference_in_Count: 0.3750 - val_std_Difference_in_Count: 2.8035 - val_mean_absolute_Difference_in_Count: 2.0000 - val_std_absolute_Difference_in_Count: 2.0000 - val_MSE: 8.0000\n",
            "Epoch 11/100\n",
            "1464/1464 [==============================] - 235s 160ms/step - loss: 3.7032 - mean_Difference_in_Count: -0.0493 - std_Difference_in_Count: 1.5692 - mean_absolute_Difference_in_Count: 1.4639 - std_absolute_Difference_in_Count: 1.0495 - MSE: 3.7720 - val_loss: 9.3666 - val_mean_Difference_in_Count: 0.0625 - val_std_Difference_in_Count: 3.0917 - val_mean_absolute_Difference_in_Count: 2.1875 - val_std_absolute_Difference_in_Count: 2.1857 - val_MSE: 9.5625\n"
          ],
          "name": "stdout"
        }
      ]
    },
    {
      "cell_type": "code",
      "metadata": {
        "id": "BJS7YX34O0CI",
        "colab_type": "code",
        "outputId": "0aff9b57-ca16-4b9f-9103-2d2374874967",
        "colab": {
          "base_uri": "https://localhost:8080/",
          "height": 1000
        }
      },
      "source": [
        "fitter_functions(create_Xception_model(),Ac_X_train,A4_X_test,Ac_Y_train,A4_Y_test,True)"
      ],
      "execution_count": 0,
      "outputs": [
        {
          "output_type": "stream",
          "text": [
            "Epoch 1/100\n",
            "1464/1464 [==============================] - 237s 162ms/step - loss: 5.6737 - mean_Difference_in_Count: -0.1099 - std_Difference_in_Count: 1.6963 - mean_absolute_Difference_in_Count: 1.6804 - std_absolute_Difference_in_Count: 1.1691 - MSE: 5.1656 - val_loss: 4.3115 - val_mean_Difference_in_Count: -0.5411 - val_std_Difference_in_Count: 1.8467 - val_mean_absolute_Difference_in_Count: 1.4571 - val_std_absolute_Difference_in_Count: 1.2713 - val_MSE: 3.8768\n",
            "Epoch 2/100\n",
            "1464/1464 [==============================] - 235s 160ms/step - loss: 4.2257 - mean_Difference_in_Count: -0.0708 - std_Difference_in_Count: 1.6224 - mean_absolute_Difference_in_Count: 1.5476 - std_absolute_Difference_in_Count: 1.0916 - MSE: 4.0936 - val_loss: 5.2482 - val_mean_Difference_in_Count: 1.0473 - val_std_Difference_in_Count: 1.9660 - val_mean_absolute_Difference_in_Count: 1.7205 - val_std_absolute_Difference_in_Count: 1.4176 - val_MSE: 5.1312\n",
            "Epoch 3/100\n",
            "1464/1464 [==============================] - 235s 161ms/step - loss: 4.4855 - mean_Difference_in_Count: -0.0606 - std_Difference_in_Count: 1.6480 - mean_absolute_Difference_in_Count: 1.6000 - std_absolute_Difference_in_Count: 1.1322 - MSE: 4.4661 - val_loss: 10.0570 - val_mean_Difference_in_Count: -2.2170 - val_std_Difference_in_Count: 2.2666 - val_mean_absolute_Difference_in_Count: 2.3955 - val_std_absolute_Difference_in_Count: 2.0804 - val_MSE: 10.1098\n",
            "Epoch 4/100\n",
            "1464/1464 [==============================] - 234s 160ms/step - loss: 3.9936 - mean_Difference_in_Count: -0.0575 - std_Difference_in_Count: 1.5874 - mean_absolute_Difference_in_Count: 1.5158 - std_absolute_Difference_in_Count: 1.0755 - MSE: 4.0311 - val_loss: 5.0280 - val_mean_Difference_in_Count: -0.8027 - val_std_Difference_in_Count: 2.0618 - val_mean_absolute_Difference_in_Count: 1.6098 - val_std_absolute_Difference_in_Count: 1.5363 - val_MSE: 4.9884\n",
            "Epoch 5/100\n",
            "1464/1464 [==============================] - 235s 160ms/step - loss: 3.7410 - mean_Difference_in_Count: -0.0426 - std_Difference_in_Count: 1.5523 - mean_absolute_Difference_in_Count: 1.4633 - std_absolute_Difference_in_Count: 1.0478 - MSE: 3.6960 - val_loss: 4.1251 - val_mean_Difference_in_Count: -0.3607 - val_std_Difference_in_Count: 1.9445 - val_mean_absolute_Difference_in_Count: 1.4768 - val_std_absolute_Difference_in_Count: 1.3335 - val_MSE: 4.0161\n",
            "Epoch 6/100\n",
            "1464/1464 [==============================] - 233s 159ms/step - loss: 3.4784 - mean_Difference_in_Count: -0.0575 - std_Difference_in_Count: 1.4958 - mean_absolute_Difference_in_Count: 1.4086 - std_absolute_Difference_in_Count: 1.0134 - MSE: 3.4473 - val_loss: 4.5167 - val_mean_Difference_in_Count: 0.3830 - val_std_Difference_in_Count: 2.0373 - val_mean_absolute_Difference_in_Count: 1.5312 - val_std_absolute_Difference_in_Count: 1.3883 - val_MSE: 4.3866\n",
            "Epoch 7/100\n",
            "1464/1464 [==============================] - 231s 158ms/step - loss: 3.3577 - mean_Difference_in_Count: -0.0395 - std_Difference_in_Count: 1.4604 - mean_absolute_Difference_in_Count: 1.3911 - std_absolute_Difference_in_Count: 0.9878 - MSE: 3.3485 - val_loss: 4.0045 - val_mean_Difference_in_Count: 0.4491 - val_std_Difference_in_Count: 1.9076 - val_mean_absolute_Difference_in_Count: 1.4866 - val_std_absolute_Difference_in_Count: 1.2812 - val_MSE: 3.9795\n",
            "Epoch 8/100\n",
            "1464/1464 [==============================] - 231s 158ms/step - loss: 3.2408 - mean_Difference_in_Count: -0.0353 - std_Difference_in_Count: 1.4474 - mean_absolute_Difference_in_Count: 1.3636 - std_absolute_Difference_in_Count: 0.9793 - MSE: 3.2514 - val_loss: 3.9900 - val_mean_Difference_in_Count: -0.6134 - val_std_Difference_in_Count: 1.8775 - val_mean_absolute_Difference_in_Count: 1.4973 - val_std_absolute_Difference_in_Count: 1.2840 - val_MSE: 3.9813\n",
            "Epoch 9/100\n",
            "1464/1464 [==============================] - 232s 158ms/step - loss: 2.9101 - mean_Difference_in_Count: -0.0290 - std_Difference_in_Count: 1.3847 - mean_absolute_Difference_in_Count: 1.2909 - std_absolute_Difference_in_Count: 0.9297 - MSE: 2.8986 - val_loss: 4.6141 - val_mean_Difference_in_Count: 0.0196 - val_std_Difference_in_Count: 2.1354 - val_mean_absolute_Difference_in_Count: 1.6107 - val_std_absolute_Difference_in_Count: 1.3969 - val_MSE: 4.6589\n",
            "Epoch 10/100\n",
            "1464/1464 [==============================] - 233s 159ms/step - loss: 2.9703 - mean_Difference_in_Count: -0.0310 - std_Difference_in_Count: 1.3716 - mean_absolute_Difference_in_Count: 1.3028 - std_absolute_Difference_in_Count: 0.9309 - MSE: 2.9929 - val_loss: 4.4255 - val_mean_Difference_in_Count: -0.0339 - val_std_Difference_in_Count: 2.0744 - val_mean_absolute_Difference_in_Count: 1.6339 - val_std_absolute_Difference_in_Count: 1.2950 - val_MSE: 4.4607\n",
            "Epoch 11/100\n",
            "1464/1464 [==============================] - 233s 159ms/step - loss: 2.9359 - mean_Difference_in_Count: -0.0329 - std_Difference_in_Count: 1.3604 - mean_absolute_Difference_in_Count: 1.2811 - std_absolute_Difference_in_Count: 0.9258 - MSE: 2.9584 - val_loss: 3.9644 - val_mean_Difference_in_Count: -0.2420 - val_std_Difference_in_Count: 1.9384 - val_mean_absolute_Difference_in_Count: 1.4295 - val_std_absolute_Difference_in_Count: 1.3363 - val_MSE: 3.8955\n",
            "Epoch 12/100\n",
            "1464/1464 [==============================] - 233s 159ms/step - loss: 2.5998 - mean_Difference_in_Count: -0.0264 - std_Difference_in_Count: 1.3089 - mean_absolute_Difference_in_Count: 1.2097 - std_absolute_Difference_in_Count: 0.8833 - MSE: 2.5647 - val_loss: 4.2039 - val_mean_Difference_in_Count: -0.1545 - val_std_Difference_in_Count: 1.9728 - val_mean_absolute_Difference_in_Count: 1.4937 - val_std_absolute_Difference_in_Count: 1.2947 - val_MSE: 4.1116\n"
          ],
          "name": "stdout"
        }
      ]
    },
    {
      "cell_type": "code",
      "metadata": {
        "id": "2yLpXbGrPLSU",
        "colab_type": "code",
        "outputId": "a4033057-5bc1-47d1-ac8d-615b4d1057ee",
        "colab": {
          "base_uri": "https://localhost:8080/",
          "height": 1000
        }
      },
      "source": [
        "fitter_functions(create_Xception_model(),Ac_X_train,Ac_X_test,Ac_Y_train,Ac_Y_test,True)"
      ],
      "execution_count": 0,
      "outputs": [
        {
          "output_type": "stream",
          "text": [
            "Epoch 1/100\n",
            "1464/1464 [==============================] - 236s 161ms/step - loss: 3.9974 - mean_Difference_in_Count: -0.1215 - std_Difference_in_Count: 1.2308 - mean_absolute_Difference_in_Count: 1.2435 - std_absolute_Difference_in_Count: 0.8852 - MSE: 3.6385 - val_loss: 5.5703 - val_mean_Difference_in_Count: 0.6156 - val_std_Difference_in_Count: 2.1232 - val_mean_absolute_Difference_in_Count: 1.7031 - val_std_absolute_Difference_in_Count: 1.4469 - val_MSE: 5.1125\n",
            "Epoch 2/100\n",
            "1464/1464 [==============================] - 234s 160ms/step - loss: 2.2807 - mean_Difference_in_Count: -0.0376 - std_Difference_in_Count: 1.1360 - mean_absolute_Difference_in_Count: 1.0824 - std_absolute_Difference_in_Count: 0.7990 - MSE: 2.1639 - val_loss: 4.4628 - val_mean_Difference_in_Count: 0.0492 - val_std_Difference_in_Count: 2.0300 - val_mean_absolute_Difference_in_Count: 1.5758 - val_std_absolute_Difference_in_Count: 1.3225 - val_MSE: 4.3680\n",
            "Epoch 3/100\n",
            "1464/1464 [==============================] - 235s 161ms/step - loss: 2.1460 - mean_Difference_in_Count: -0.0410 - std_Difference_in_Count: 1.0906 - mean_absolute_Difference_in_Count: 1.0471 - std_absolute_Difference_in_Count: 0.7932 - MSE: 2.0660 - val_loss: 4.3435 - val_mean_Difference_in_Count: -0.1609 - val_std_Difference_in_Count: 1.9819 - val_mean_absolute_Difference_in_Count: 1.5797 - val_std_absolute_Difference_in_Count: 1.2346 - val_MSE: 4.1766\n",
            "Epoch 4/100\n",
            "1464/1464 [==============================] - 236s 161ms/step - loss: 2.0497 - mean_Difference_in_Count: -0.0402 - std_Difference_in_Count: 1.0950 - mean_absolute_Difference_in_Count: 1.0302 - std_absolute_Difference_in_Count: 0.7769 - MSE: 2.0898 - val_loss: 4.2255 - val_mean_Difference_in_Count: -0.2586 - val_std_Difference_in_Count: 1.9711 - val_mean_absolute_Difference_in_Count: 1.5320 - val_std_absolute_Difference_in_Count: 1.2729 - val_MSE: 4.1055\n",
            "Epoch 5/100\n",
            "1464/1464 [==============================] - 235s 161ms/step - loss: 1.7682 - mean_Difference_in_Count: -0.0305 - std_Difference_in_Count: 1.0182 - mean_absolute_Difference_in_Count: 0.9362 - std_absolute_Difference_in_Count: 0.7362 - MSE: 1.6874 - val_loss: 4.4783 - val_mean_Difference_in_Count: 0.4164 - val_std_Difference_in_Count: 1.9783 - val_mean_absolute_Difference_in_Count: 1.5352 - val_std_absolute_Difference_in_Count: 1.3697 - val_MSE: 4.4805\n",
            "Epoch 6/100\n",
            "1464/1464 [==============================] - 234s 160ms/step - loss: 1.6584 - mean_Difference_in_Count: -0.0174 - std_Difference_in_Count: 1.0010 - mean_absolute_Difference_in_Count: 0.9200 - std_absolute_Difference_in_Count: 0.7160 - MSE: 1.6055 - val_loss: 5.3865 - val_mean_Difference_in_Count: 0.9758 - val_std_Difference_in_Count: 1.9822 - val_mean_absolute_Difference_in_Count: 1.7633 - val_std_absolute_Difference_in_Count: 1.3896 - val_MSE: 5.2430\n",
            "Epoch 7/100\n",
            "1464/1464 [==============================] - 235s 160ms/step - loss: 1.6346 - mean_Difference_in_Count: -0.0263 - std_Difference_in_Count: 0.9817 - mean_absolute_Difference_in_Count: 0.9029 - std_absolute_Difference_in_Count: 0.7165 - MSE: 1.5634 - val_loss: 5.6690 - val_mean_Difference_in_Count: 1.0602 - val_std_Difference_in_Count: 2.0417 - val_mean_absolute_Difference_in_Count: 1.8180 - val_std_absolute_Difference_in_Count: 1.4318 - val_MSE: 5.5805\n",
            "Epoch 8/100\n",
            "1464/1464 [==============================] - 235s 160ms/step - loss: 1.6013 - mean_Difference_in_Count: -0.0131 - std_Difference_in_Count: 0.9768 - mean_absolute_Difference_in_Count: 0.8986 - std_absolute_Difference_in_Count: 0.7124 - MSE: 1.5443 - val_loss: 4.4781 - val_mean_Difference_in_Count: -0.1039 - val_std_Difference_in_Count: 2.0185 - val_mean_absolute_Difference_in_Count: 1.5336 - val_std_absolute_Difference_in_Count: 1.3694 - val_MSE: 4.3773\n",
            "Epoch 9/100\n",
            "1464/1464 [==============================] - 235s 160ms/step - loss: 1.6029 - mean_Difference_in_Count: -0.0221 - std_Difference_in_Count: 0.9804 - mean_absolute_Difference_in_Count: 0.8946 - std_absolute_Difference_in_Count: 0.7188 - MSE: 1.5480 - val_loss: 4.8576 - val_mean_Difference_in_Count: 0.4969 - val_std_Difference_in_Count: 2.0711 - val_mean_absolute_Difference_in_Count: 1.7234 - val_std_absolute_Difference_in_Count: 1.3023 - val_MSE: 4.8953\n"
          ],
          "name": "stdout"
        }
      ]
    },
    {
      "cell_type": "code",
      "metadata": {
        "id": "XC6fKPeUvqRt",
        "colab_type": "code",
        "colab": {}
      },
      "source": [
        "#Depicting the results\n",
        "#%load_ext tensorboard\n",
        "#%tensorboard --logdir logs"
      ],
      "execution_count": 0,
      "outputs": []
    },
    {
      "cell_type": "code",
      "metadata": {
        "id": "406GkhnlSu6c",
        "colab_type": "code",
        "colab": {}
      },
      "source": [
        "#Xception_conv_altered.load_weights('/content/drive/My Drive/model/eps=002_valLoss=16.4232.hdf5')"
      ],
      "execution_count": 0,
      "outputs": []
    },
    {
      "cell_type": "code",
      "metadata": {
        "id": "6-gt_Mk-Eizz",
        "colab_type": "code",
        "colab": {}
      },
      "source": [
        "#idx = np.random.randint(0, len(Ac_X_test), 1)\n",
        "#print(Xception_conv_altered.predict(Ac_X_test[idx]))\n",
        "#print(Ac_Y_test[idx])"
      ],
      "execution_count": 0,
      "outputs": []
    }
  ]
}